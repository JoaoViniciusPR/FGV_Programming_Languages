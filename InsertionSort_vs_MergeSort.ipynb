{
 "cells": [
  {
   "cell_type": "markdown",
   "metadata": {},
   "source": [
    "# InsertionSort vs MergeSort"
   ]
  },
  {
   "cell_type": "code",
   "execution_count": 5,
   "metadata": {},
   "outputs": [],
   "source": [
    "import random #Importa-se os pacotes necessarios\n",
    "import time\n",
    "import matplotlib.pyplot as plt"
   ]
  },
  {
   "cell_type": "code",
   "execution_count": 6,
   "metadata": {},
   "outputs": [],
   "source": [
    "#Funcao para organizar uma lista utilizando InsertionSort\n",
    "\n",
    "def insertion_sort(L):\n",
    "    for i in range(len(L)): #Loop que acessa todos os elementos da lista pelo indice\n",
    "        n = L[i] #Numero de referencia na iteracao\n",
    "        j = i-1 #Indices anteriores do indice i\n",
    "        while j >= 0 and L[j] > n: #Enquanto isso acontecer, ainda eh necessario trocar elementos para obter a\n",
    "            #lista L[:i] organizada\n",
    "            L[j+1],L[j] = L[j],n #Faz a troca necessaria dos elementos\n",
    "            j -= 1 #Diminui o valor de j, para poder ir iterando com os numeros de indices menor que i\n",
    "            #(enquanto a condicao do while seja satisfeita)\n",
    "    return(L) #Retorna a lista organizada"
   ]
  },
  {
   "cell_type": "code",
   "execution_count": 7,
   "metadata": {},
   "outputs": [],
   "source": [
    "#Funcoes para organizar uma lista utilizando MergeSort\n",
    "\n",
    "def merge_sort(L):\n",
    "    if len(L) <= 1: #Se a lista tiver tamanho <=1, ela ja esta organizada\n",
    "        return L\n",
    "    m = int(len(L)/2) #Numero utilizado para dividir a lista em duas\n",
    "    L_left = L[0:m] #Parte esquerda da lista\n",
    "    L_right = L[m:] #Parte direita da lista\n",
    "    return(merge(merge_sort(L_left),merge_sort(L_right))) #Retorna a lista organizada\n",
    "\n",
    "def merge(A,B): #Funcao para juntar duas listas organizadas em outra organizada\n",
    "    T = []\n",
    "    while len(A)!=0 and len(B)!=0: #Enquanto ambas forem nao vazias\n",
    "        if A[0] < B[0]: #Se o primeiro elemento de A for menor que o primeiro de B\n",
    "            T.append(A[0]) #O elemento eh colocado no final da lista T\n",
    "            A.pop(0) #E excluido da lista A\n",
    "        else: #Se acontecer o contrario\n",
    "            T.append(B[0]) #O elemento eh colocado no final da lista T\n",
    "            B.pop(0) #E excluido da lista B\n",
    "    T.extend(A) #No final do while, das listas A e B, uma sera vazia e a outra possuira elementos organizados\n",
    "    T.extend(B) #maiores que os de T, logo para concluir eh so colocar ambas no final de T\n",
    "    return(T) #Retorna a lista combinada de A e B organizada"
   ]
  },
  {
   "cell_type": "markdown",
   "metadata": {},
   "source": [
    "## 1) Random Order"
   ]
  },
  {
   "cell_type": "code",
   "execution_count": 8,
   "metadata": {},
   "outputs": [],
   "source": [
    "def random_list(n): #Gera uma lista com n elementos aleatorios\n",
    "    L = [0]*n\n",
    "    for i in range(n):\n",
    "        L[i] = random.randrange(10*n) #A funcao randrange() precisa de um parametro, por isso escolhi 10*n\n",
    "    return(L)"
   ]
  },
  {
   "cell_type": "code",
   "execution_count": null,
   "metadata": {},
   "outputs": [],
   "source": [
    "X = [0]*10 #Lista com o numero de elementos\n",
    "Y1 = [0]*10 #Lista do tempo gasto com o InsertionSort\n",
    "Y2 = [0]*10 #Lista do tempo gasto com o MergeSort\n",
    "\n",
    "for n in range(10): \n",
    "    m = 10000*(n+1) #Numero de elementos da lista\n",
    "    L = random_list(m) #Gera a lista em ordem crescente\n",
    "    ti1 = time.time()\n",
    "    L1 = insertion_sort(L) #Organiza a lista utilizando o algoritmo InsertionSort\n",
    "    tf1 = time.time()-ti1 #Calcula o tempo gasto\n",
    "    ti2 = time.time()\n",
    "    L1 = merge_sort(L) #Organiza a lista utilizando o algoritmo MergeSort\n",
    "    tf2 = time.time()-ti2 #Calcula o tempo gasto\n",
    "    X[n],Y1[n],Y2[n]=m,tf1,tf2 #Atribui os valores encontrados as listas X, Y1 e Y2\n",
    "    \n",
    "plt.plot(X, Y1, linestyle='-', color='b', marker='o', label=\"InsertionSort\",\n",
    "         linewidth=3.0) #Plota o grafico do InsertionSort\n",
    "plt.plot(X, Y2, linestyle='-', color='r', marker='o', label=\"MergeSort\",\n",
    "         linewidth=3.0) #Plota o grafico do MergeSort\n",
    "plt.legend(loc='upper left')\n",
    "\n",
    "plt.title(\"Ordem Crescente\") #Adiciona o titulo e as legendas de cada eixo\n",
    "plt.xlabel(\"Número de elementos da lista\")\n",
    "plt.ylabel(\"Tempo Gasto\")\n",
    "\n",
    "plt.show() #Mostra o grafico"
   ]
  },
  {
   "cell_type": "markdown",
   "metadata": {},
   "source": [
    "### Conclusão:\n",
    "Em geral, o algoritmo InsertionSort possui $O(n)$ iterações no for e $O(n)$ iterações no while, para cada iteração do for, logo sua complexidade geral é $O(n^2)$. E como já vimos em aula, a complexidade do algoritmo MergeSort é $O(n\\log{n})$. Assim, quanto maior a quantidade de números aleatórios de uma lista, mais se torna visível a diferença de gasto de tempo dos dois algoritmos e o gráfico do MergeSort se aproxima mais de uma linha em comparação ao gráfico do InsertionSort. Portanto, em casos de números aleatórios, o MergeSort se mostra mais eficiente para organizar listas em relação ao tempo."
   ]
  },
  {
   "cell_type": "markdown",
   "metadata": {},
   "source": [
    "## 2) Ascending Order"
   ]
  },
  {
   "cell_type": "code",
   "execution_count": 20,
   "metadata": {},
   "outputs": [],
   "source": [
    "def ascending_list(n): #Gera uma lista com n elementos em ordem crescente\n",
    "    L = list(range(1,n+1))\n",
    "    return(L)"
   ]
  },
  {
   "cell_type": "code",
   "execution_count": null,
   "metadata": {},
   "outputs": [],
   "source": [
    "X = [0]*10 #Lista com o numero de elementos\n",
    "Y1 = [0]*10 #Lista do tempo gasto com o InsertionSort\n",
    "Y2 = [0]*10 #Lista do tempo gasto com o MergeSort\n",
    "\n",
    "for n in range(10): \n",
    "    m = 10000*(n+1) #Numero de elementos da lista\n",
    "    L = ascending_list(m) #Gera a lista em ordem crescente\n",
    "    ti1 = time.time()\n",
    "    L1 = insertion_sort(L) #Organiza a lista utilizando o algoritmo InsertionSort\n",
    "    tf1 = time.time()-ti1 #Calcula o tempo gasto\n",
    "    ti2 = time.time()\n",
    "    L1 = merge_sort(L) #Organiza a lista utilizando o algoritmo MergeSort\n",
    "    tf2 = time.time()-ti2 #Calcula o tempo gasto\n",
    "    X[n],Y1[n],Y2[n]=m,tf1,tf2 #Atribui os valores encontrados as listas X, Y1 e Y2\n",
    "    \n",
    "plt.plot(X, Y1, linestyle='-', color='b', marker='o', label=\"InsertionSort\",\n",
    "         linewidth=3.0) #Plota o grafico do InsertionSort\n",
    "plt.plot(X, Y2, linestyle='-', color='r', marker='o', label=\"MergeSort\",\n",
    "         linewidth=3.0) #Plota o grafico do MergeSort\n",
    "plt.legend(loc='upper left')\n",
    "\n",
    "plt.title(\"Ordem Crescente\") #Adiciona o titulo e as legendas de cada eixo\n",
    "plt.xlabel(\"Número de elementos da lista\")\n",
    "plt.ylabel(\"Tempo Gasto\")\n",
    "\n",
    "plt.show() #Mostra o grafico"
   ]
  },
  {
   "cell_type": "markdown",
   "metadata": {},
   "source": [
    "### Conclusão: \n",
    "No BestCase, a lista já esta organizada, logo para o InsertionSort irá acontecer $n$ iterações no for, e para cada iteração no for, só irá acontecer $1$ iteração no while (compara, vê que não satisfaz a condição e sai do while), assim a complexidade desse algoritmo no BestCase é $O(n)$, ou seja, linear. Enquanto a complexidade do MergeSort permanece a mesma no BestCase: $O(n\\log n)$ (pois ele continua fazendo as mesmas divisões que faria se os números estivessem desorganizados). Portanto, no BestCase, o InsertionSort se mostra mais eficiente para organizar listas em relação ao tempo."
   ]
  },
  {
   "cell_type": "markdown",
   "metadata": {},
   "source": [
    "## 3) Descending Order"
   ]
  },
  {
   "cell_type": "code",
   "execution_count": 28,
   "metadata": {},
   "outputs": [],
   "source": [
    "def descending_list(n): #Gera uma lista com n elementos em ordem decrescente\n",
    "    L = list(range(n,0,-1))\n",
    "    return(L)"
   ]
  },
  {
   "cell_type": "code",
   "execution_count": null,
   "metadata": {},
   "outputs": [],
   "source": [
    "X = [0]*10 #Lista com o numero de elementos\n",
    "Y1 = [0]*10 #Lista do tempo gasto com o InsertionSort\n",
    "Y2 = [0]*10 #Lista do tempo gasto com o MergeSort\n",
    "\n",
    "for n in range(10): \n",
    "    m = 10000*(n+1) #Numero de elementos da lista\n",
    "    L = descending_list(m) #Gera a lista em ordem crescente\n",
    "    ti1 = time.time()\n",
    "    L1 = insertion_sort(L) #Organiza a lista utilizando o algoritmo InsertionSort\n",
    "    tf1 = time.time()-ti1 #Calcula o tempo gasto\n",
    "    ti2 = time.time()\n",
    "    L1 = merge_sort(L) #Organiza a lista utilizando o algoritmo MergeSort\n",
    "    tf2 = time.time()-ti2 #Calcula o tempo gasto\n",
    "    X[n],Y1[n],Y2[n]=m,tf1,tf2 #Atribui os valores encontrados as listas X, Y1 e Y2\n",
    "    \n",
    "plt.plot(X, Y1, linestyle='-', color='b', marker='o', label=\"InsertionSort\",\n",
    "         linewidth=3.0) #Plota o grafico do InsertionSort\n",
    "plt.plot(X, Y2, linestyle='-', color='r', marker='o', label=\"MergeSort\",\n",
    "         linewidth=3.0) #Plota o grafico do MergeSort\n",
    "plt.legend(loc='upper left')\n",
    "\n",
    "plt.title(\"Ordem Crescente\") #Adiciona o titulo e as legendas de cada eixo\n",
    "plt.xlabel(\"Número de elementos da lista\")\n",
    "plt.ylabel(\"Tempo Gasto\")\n",
    "\n",
    "plt.show() #Mostra o grafico"
   ]
  },
  {
   "cell_type": "markdown",
   "metadata": {},
   "source": [
    "### Conclusão:\n",
    "No WorstCase, a lista está organizada de forma decrescente, logo para o InsertionSort irá acontecer $n$ iterações no $for$ e para cada uma delas, irá acontecer o máximo de iterações possíveis no $while$, assim, a complexidade desse algoritmo no WorstCase é $O(n^2)$. Enquanto a complexidade do MergeSort permanece a mesma no WorstCase: $O(n\\log n)$. Portanto, no WorstCase, o MergeSort se mostra mais eficiente para organizar listas em relação ao tempo."
   ]
  }
 ],
 "metadata": {
  "kernelspec": {
   "display_name": "Python 3",
   "language": "python",
   "name": "python3"
  }
 },
 "nbformat": 4,
 "nbformat_minor": 2
}
