{
 "cells": [
  {
   "cell_type": "markdown",
   "metadata": {},
   "source": [
    "# Expressoes Regulares"
   ]
  },
  {
   "cell_type": "markdown",
   "metadata": {},
   "source": [
    "* https://docs.python.org/2/library/re.html\n",
    "* https://medium.com/trainingcenter/entendendo-de-uma-vez-por-todas-express%C3%B5es-regulares-parte-1-introdu%C3%A7%C3%A3o-dfe63e289dc3\n",
    "* https://www.youtube.com/watch?v=aPk2ruhi2Zk\n",
    "* https://regex101.com/\n",
    "* https://regexr.com/"
   ]
  },
  {
   "cell_type": "markdown",
   "metadata": {},
   "source": [
    "## Usando Expressoes Regulares em Python"
   ]
  },
  {
   "cell_type": "code",
   "execution_count": 1,
   "metadata": {},
   "outputs": [],
   "source": [
    "import re"
   ]
  },
  {
   "cell_type": "code",
   "execution_count": null,
   "metadata": {},
   "outputs": [],
   "source": [
    "re.search() #Retorna a primeira correspondência\n",
    "print(padrao.group())\n",
    "re.findall() #Retorna todas as correspondências\n",
    "print(padrao)\n",
    "re.split() #Divide o texto baseado num padrao\n",
    "re.sub() #Substitui uma string, por outra string, num texto (todos definidos como parametros)"
   ]
  },
  {
   "cell_type": "code",
   "execution_count": 14,
   "metadata": {},
   "outputs": [
    {
     "name": "stdout",
     "output_type": "stream",
     "text": [
      "boi\n"
     ]
    }
   ],
   "source": [
    "padrao = re.search(r'\\b\\woi\\b','boi da cara preta')\n",
    "if padrao:\n",
    "    print(padrao.group())"
   ]
  },
  {
   "cell_type": "markdown",
   "metadata": {},
   "source": [
    "## Comandos"
   ]
  },
  {
   "cell_type": "markdown",
   "metadata": {},
   "source": [
    "### Metacaracteres"
   ]
  },
  {
   "cell_type": "markdown",
   "metadata": {},
   "source": [
    "**\\d** - Numeros de 0 a 9\n",
    "\n",
    "**\\w** - Todas as letras, números e underlines\n",
    "\n",
    "**\\s** - Considera qualquer espaço em branco, seja ele um espaço, um tab, uma nova linha, um form feed e até mesmo um vertical tab\n",
    "\n",
    "**\\S** - Negação de \\s (vale para todas as letras)\n",
    "\n",
    "**.** - Qualquer caractere\n",
    "\n",
    "**-** - Range entre duas coisas antes e depois do hífen\n",
    "\n",
    "**\\** - Representa o valor literal do caractere (quando ele sozinho é um metacharacter). O seu significado semântico ( \\ . \\ - \\ /)\n",
    "\n",
    "**|** - Ou, para separar expressões regulares"
   ]
  },
  {
   "cell_type": "markdown",
   "metadata": {},
   "source": [
    "### Classes de caracteres"
   ]
  },
  {
   "cell_type": "markdown",
   "metadata": {},
   "source": [
    "**[A-Za-z]** - Todas as letras\n",
    "\n",
    "**[1234] ou [1-4]** - Números de 1 á 4\n",
    "\n",
    "**[A-Za-z0-9] ou \\w** - Todas as letras e números\n",
    "\n",
    "**[\\wçãà]** -  Todas as letras, números e ç,ã,à"
   ]
  },
  {
   "cell_type": "markdown",
   "metadata": {},
   "source": [
    "### Quantifiers"
   ]
  },
  {
   "cell_type": "markdown",
   "metadata": {},
   "source": [
    "**Definição:** Determina uma quantidade de vezes\n",
    "\n",
    "**{n}** - Aparece n vezes\n",
    "\n",
    "**{n,}** - Aparece no mínimo n vezes\n",
    "\n",
    "**{n,m}** - Aparece no mínimo n vezes e no máximo m vezes\n",
    "\n",
    "**+** - Aparece no mínimo 1 vez\n",
    "\n",
    "**?** - Pode ou não aparecer (apenas uma vez)\n",
    "\n",
    "***** - Pode não aparecer ou aparecer várias vezes\n",
    "\n",
    "**a.+z** - Primeiro a até o último z\n",
    "\n",
    "**a.+?z** - Primeiro a até o primeiro z"
   ]
  },
  {
   "cell_type": "markdown",
   "metadata": {},
   "source": [
    "### Grupos de caracteres"
   ]
  },
  {
   "cell_type": "markdown",
   "metadata": {},
   "source": [
    "**Definição:** São formas de agrupar expressões. Com eles, podemos selecionar o que queremos ou não receber nos resultados\n",
    "\n",
    "**()** - Define um grupo no código (Cada grupo recebe um numeração)\n",
    "\n",
    "**(?: )** - Não receberemos esse grupo nos resultados e ele não ganha uma numeração\n",
    "\n",
    "**\\n** - A mesma coisa que apareceu no grupo de numeração n"
   ]
  },
  {
   "cell_type": "markdown",
   "metadata": {},
   "source": [
    "### Âncoras"
   ]
  },
  {
   "cell_type": "markdown",
   "metadata": {},
   "source": [
    "**Definição:** Serve para que você delimite um começo e um fim em uma expressão regular,\n",
    "\n",
    "**\\b** - Backspace. Não começa e nem termina com letras, números ou underline além da expressão\n",
    "\n",
    "**^** - Tag de início: não temos nada antes da expressão\n",
    "\n",
    "**$** - Tag de Fim: não temos nada depois da expressão\n",
    "OBS: precisamos usar /g /m"
   ]
  },
  {
   "cell_type": "markdown",
   "metadata": {},
   "source": [
    "### Exemplos"
   ]
  },
  {
   "cell_type": "markdown",
   "metadata": {},
   "source": [
    "**1)** Verificar se uma data é válida:\n",
    "\n",
    "    [0-3]?\\d\\/[0-1]\\d\\/[12]\\d{3}\n",
    "\n",
    "**2)** Validar um username com as seguintes regras:\n",
    "* Deve conter apenas letras minúsculas;\n",
    "* Pode conter números, underline e hífen;\n",
    "* Deve ter entre 3 e 16 caracteres.\n",
    "\n",
    "    [a-z0-9_-]{3,16}\n",
    "    \n",
    "**3)** Selecionar o título no texto abaixo\n",
    "h1 Meu Titulo h1\n",
    "\n",
    "    (?:h1)\\s([\\w\\s]+)\\s(?:h1)\n",
    "    \n",
    "**4)** Selecionar os títulos no texto abaixo:\n",
    "h1 Meu Titulo h1\n",
    "h2 Meu Titulo h2\n",
    "h3 Meu Titulo errado h4\n",
    "\n",
    "    (?:(h[1-6]))\\s([\\w\\s]+)\\s(?:\\1)\n",
    "    \n",
    "**5)** Filtrar um padrão especifico de nomenclatura dos arquivos:\n",
    "2017-index_produto.txt\n",
    "produtos.txt\n",
    "2017-index_clientes.txt\n",
    "clientes.txt\n",
    "2016-users.txt\n",
    "\n",
    "    ^\\d{4}-\\w+.txt$"
   ]
  }
 ],
 "metadata": {
  "kernelspec": {
   "display_name": "Python 3",
   "language": "python",
   "name": "python3"
  },
  "language_info": {
   "codemirror_mode": {
    "name": "ipython",
    "version": 3
   },
   "file_extension": ".py",
   "mimetype": "text/x-python",
   "name": "python",
   "nbconvert_exporter": "python",
   "pygments_lexer": "ipython3",
   "version": "3.5.2"
  }
 },
 "nbformat": 4,
 "nbformat_minor": 2
}
