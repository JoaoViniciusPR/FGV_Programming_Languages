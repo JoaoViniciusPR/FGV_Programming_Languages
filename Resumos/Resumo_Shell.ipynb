{
 "cells": [
  {
   "cell_type": "markdown",
   "metadata": {},
   "source": [
    "# Shell - Bash (UnixForPoets)"
   ]
  },
  {
   "cell_type": "markdown",
   "metadata": {},
   "source": [
    "https://www.cs.upc.edu/~padro/Unixforpoets.pdf"
   ]
  },
  {
   "cell_type": "markdown",
   "metadata": {},
   "source": [
    "**<** - Indica que a entrada deve ser retirada de tal arquivo\n",
    "* **! cat** - Em python, usamos esse comando\n",
    "\n",
    "**>** - Indica que a entrada deve ser redirecionada para tal arquivo\n",
    "\n",
    "**|** - Conecta a saída de um comando a entrada do próximo\n",
    "\n",
    "**tr** - Transforma o texto para uma sequência de palavras\n",
    "\n",
    "**man **- Documentação e outras informações sobre o comando tr\n",
    "\n",
    "**-sc** - Fazer repetidas vezes (s) e negação do que vir a seguir (c)\n",
    "\n",
    "**[\\012*]** - Espaço em branco\n",
    "\n",
    "**sed 5q** - Mostra as 5 primeiras linhas do resultado\n",
    "* **sed ''** - Mostra tudo até encontrar um padrão de expressão regular\n",
    "* **sed '/'** - Substitui um padrão por uma string\n",
    "\n",
    "**sort** - Organiza as palavras em ordem\n",
    "* **sort -u** - Organiza as palavras únicas em ordem\n",
    "* **sort -d** - Organiza um dicionário\n",
    "* **sort -f** - Organiza em caso dobrável\n",
    "* **sort -n** - Organiza em ordem numérica\n",
    "* **sort -r** - Organiza em ordem reversa (usada com uma letra a mais)\n",
    "* **sort +1** - Começa com o campo 1 (a partir de 0)\n",
    "* **sort +0.50** - Começa com 50º caractere\n",
    "* **sort +1.5** - Começa com o quinto caractere do campo 1\n",
    "\n",
    "**uniq** - Retorna somente valores únicos\n",
    "\n",
    "**uniq -c** - Faz uma função de agrupamento, retornando valores únicos e o seu número de repetições\n",
    "\n",
    "**rev** - Reverte as letras em uma linha\n",
    "\n",
    "**tail +2** - Seleciona todas as linhas, exceto a primeira\n",
    "\n",
    "**paste** - Combina duas listas termo a termo\n",
    "\n",
    "**grep** - Procura padrões de expressões regulares\n",
    "* **grep -i** - Ignora a diferença entre palavras maiúsculas e minúsculas\n",
    "* **grep -v** - Deleta linhas com tal padrão\n",
    "\n",
    "**wc** - Conta\n",
    "\n"
   ]
  },
  {
   "cell_type": "code",
   "execution_count": null,
   "metadata": {},
   "outputs": [],
   "source": []
  }
 ],
 "metadata": {
  "kernelspec": {
   "display_name": "Python 3",
   "language": "python",
   "name": "python3"
  },
  "language_info": {
   "codemirror_mode": {
    "name": "ipython",
    "version": 3
   },
   "file_extension": ".py",
   "mimetype": "text/x-python",
   "name": "python",
   "nbconvert_exporter": "python",
   "pygments_lexer": "ipython3",
   "version": "3.5.2"
  }
 },
 "nbformat": 4,
 "nbformat_minor": 2
}
