{
 "cells": [
  {
   "cell_type": "markdown",
   "metadata": {},
   "source": [
    "# SQL - Structured Query Language (Linguagem de Consulta Estruturada)"
   ]
  },
  {
   "cell_type": "markdown",
   "metadata": {},
   "source": [
    "https://www.w3schools.com/sql/"
   ]
  },
  {
   "cell_type": "markdown",
   "metadata": {},
   "source": [
    "## Usando SQL em Python"
   ]
  },
  {
   "cell_type": "code",
   "execution_count": null,
   "metadata": {},
   "outputs": [],
   "source": [
    "import pymysql\n",
    "import getpass\n",
    "import pandas.io.sql as psql"
   ]
  },
  {
   "cell_type": "code",
   "execution_count": null,
   "metadata": {},
   "outputs": [],
   "source": [
    "p = getpass.getpass()\n",
    "conn = pymysql.connect(host='127.0.0.1', #localhost\n",
    "                       port=3306, \n",
    "                       user='aluno', \n",
    "                       passwd=p, \n",
    "                       db='SQLExample1')\n",
    "cur = conn.cursor()"
   ]
  },
  {
   "cell_type": "code",
   "execution_count": null,
   "metadata": {},
   "outputs": [],
   "source": [
    "cur.execute('use alunos;')\n",
    "cur.execute('show tables')\n",
    "cur.execute('describe tabela')"
   ]
  },
  {
   "cell_type": "code",
   "execution_count": null,
   "metadata": {},
   "outputs": [],
   "source": [
    "q = '''SQL\n",
    "SQL\n",
    "SQL'''\n",
    "\n",
    "cur.execute(q)\n",
    "#a,b,c,d,e,f,g = cur.fetchone()\n",
    "for r in cur.fetchall():\n",
    "    print(r)"
   ]
  },
  {
   "cell_type": "code",
   "execution_count": null,
   "metadata": {},
   "outputs": [],
   "source": [
    "texts = ['It always seems impossible until its done.',\n",
    "         'In order to succeed, we must first believe that we can.',\n",
    "         'Life is 10% what happens to you and 90% how you react to it.',\n",
    "         'Start where you are. Use what you have. Do what you can.',]\n",
    "\n",
    "numbers = [12,23,34,45]\n",
    "\n",
    "regs = zip(texts,numbers)\n",
    "\n",
    "cur.executemany('INSERT INTO Alunos.tabela_nova (text,number) VALUES (%s,%s)', (regs))"
   ]
  },
  {
   "cell_type": "markdown",
   "metadata": {},
   "source": [
    "## Comandos"
   ]
  },
  {
   "cell_type": "markdown",
   "metadata": {},
   "source": [
    "### DATABASE - Banco de dados SQL"
   ]
  },
  {
   "cell_type": "markdown",
   "metadata": {},
   "source": [
    "**CREATE DATABASE** - Cria um novo banco de dados\n",
    "\n",
    "**DROP DATABASE** - Elimina um banco de dados existente\n",
    "\n",
    "**BACKUP DATABASE** - Cria um backup completo de um banco de dados SQL existente.\n",
    "\n",
    "* **TO DISK** - Define onde ficará salvo o BACKUP \n",
    "\n",
    "* **WITH DIFFERENTIAL** - Faz o backup apenas das partes do banco de dados que foram alteradas desde o último backup "
   ]
  },
  {
   "cell_type": "markdown",
   "metadata": {},
   "source": [
    "### TABLE - Tabela de um Banco de dados"
   ]
  },
  {
   "cell_type": "markdown",
   "metadata": {},
   "source": [
    "**CREATE TABLE()** - Cria uma nova tabela no banco de dados (nome_da_coluna tipo_de_dado)\n",
    "* **AS ' '** - Permite criar a partir de uma outra tabela, que será especificada após esse comando.\n",
    "\n",
    "**DROP TABLE** - Exclui uma tabela existente\n",
    "\n",
    "**TRUNCATE TABLE** - Exclui os registros de uma tabela existente\n",
    "\n",
    "**ALTER TABLE** - Adiciona, modifica ou exclui colunas (ou restrições) em uma tabela existente\n",
    "* **ADD** - Adiciona uma nova coluna na tabela\n",
    "* **DROP COLUMN** - Exclui uma coluna da tabela\n",
    "* **MODIFY COLUMN** - Modifica o tipo de dado de uma coluna\n",
    "\n",
    "**CONSTRAINT** - Usado para especificar restrições para colunas da tabela. As restrições são:\n",
    "* **NOT NULL** - Garante que uma coluna não pode ter um valor NULL\n",
    "* **UNIQUE** - Garante que todos os valores em uma coluna sejam diferentes\n",
    "* **PRIMARY KEY** - Uma combinação de NOT NULL e UNIQUE. Identifica exclusivamente cada linha em uma tabela\n",
    "* **FOREIGN KEY** - Identifica exclusivamente uma linha / registro em outra tabela\n",
    "* **CHECK** - Garante que todos os valores em uma coluna satisfaçam uma condição específica\n",
    "* **PADRÃO** - Define um valor padrão para uma coluna quando nenhum valor é especificado\n",
    "* **INDEX** - Usado para criar e recuperar dados do banco de dados muito rapidamente\n",
    "* **AUTO_INCREMENT** - Permite que um número exclusivo seja gerado automaticamente quando um novo registro é inserido em uma tabela (incremento padrão +1)\n"
   ]
  },
  {
   "cell_type": "markdown",
   "metadata": {},
   "source": [
    "### REGISTER - Registro de dados em uma tabela"
   ]
  },
  {
   "cell_type": "markdown",
   "metadata": {},
   "source": [
    "**INSER INTO** - Insere novos dados\n",
    "* **VALUES ()** - Valores que serão adicionados\n",
    "* **INSERT INTO SELECT** - Copia os dados de uma tabela e os insere em outra tabela, desde que os tipos de dados de ambos os lugares correspondam.\n",
    "\n",
    "**UPDATE** - Atualiza dados existentes\n",
    "* **SET** - Mostra qual coluna deve ser atualizada com qual valor. \n",
    "* **OBS:** Lembre-se de usar **WHERE**\n",
    "\n",
    "**DELETE FROM** - Delete dados existentes\n",
    "* **OBS:** Lembre-se de usar **WHERE**"
   ]
  },
  {
   "cell_type": "markdown",
   "metadata": {},
   "source": [
    "### VIEW - Visualização de uma tabela virtual baseada no conjunto de resultados de uma instrução SQL"
   ]
  },
  {
   "cell_type": "markdown",
   "metadata": {},
   "source": [
    "**CREATE VIEW [ ]** - Cria uma visualização\n",
    "\n",
    "**CREATE OR REPLACE VIEW [ ]** - Atualiza a visualização\n",
    "\n",
    "**AS** - Especifica a instrução para criar ou atualizar a visualização\n",
    "\n",
    "**DROP VIEW [ ]** - Exclui a visualização"
   ]
  },
  {
   "cell_type": "markdown",
   "metadata": {},
   "source": [
    "### PROCEDURE - Procedimento armazenado é um código SQL preparado que você pode salvar, para que o código possa ser reutilizado repetidamente"
   ]
  },
  {
   "cell_type": "markdown",
   "metadata": {},
   "source": [
    "**CREATE PROCEDURE** - Cria o procedimento com nome definido\n",
    "\n",
    "**@** - Após ele será definido um parâmetro (optativo)\n",
    "\n",
    "**AS** - Sinaliza o início do código do procedimento\n",
    "\n",
    "**GO** - Sinaliza o fim do código do procedimento\n",
    "\n",
    "**EXEC** - Executa o procedimento (parâmetro: após o nome do procedimento)"
   ]
  },
  {
   "cell_type": "markdown",
   "metadata": {},
   "source": [
    "### SELECT - Seleciona e extrai dados de um banco de dados"
   ]
  },
  {
   "cell_type": "markdown",
   "metadata": {},
   "source": [
    "**SELECT * ** - Selecionar tudo\n",
    "\n",
    "**FROM** - Identifica de onde você vai extrair\n",
    "\n",
    "**AS** - Renomeia uma tabela ou coluna\n",
    "\n",
    "**CONCAT ()** - Concatena valores\n",
    "    \n",
    "**DISTINCT** - Extrai valores unicos\n",
    "\n",
    "**SELECT INTO** - Copia os dados de uma tabela para uma nova (se for em outro banco de dados, deve ser usado com [IN])"
   ]
  },
  {
   "cell_type": "markdown",
   "metadata": {},
   "source": [
    "### WHERE - Extrai apenas os registros que atendem a uma condição especifica"
   ]
  },
  {
   "cell_type": "markdown",
   "metadata": {},
   "source": [
    "**Operadores e funções:**\n",
    "    \n",
    "**Básicos** - =, <>, <, >, <=, >=\n",
    "\n",
    "**BETWEEN** - Entre dois valores (número, texto ou data) separados por **AND**\n",
    "\n",
    "**LIKE ' '** - Pesquisa por um padrão (usando expressões regulares)\n",
    "\n",
    "* **%** - 0 ou mais caracteres\n",
    "* **_** - Exatamente um caractere\n",
    "* **[abc]** - a, b ou c\n",
    "* **[a-d]** - qualquer letra de a até d\n",
    "* **[!abc]** - todas as letras menos a, b e c\n",
    "\n",
    "**IN ()** - Para especificar vários valores possíveis pra uma coluna (Pode ser usado com **SELECT**)\n",
    "\n",
    "**AND** - Exibe um registro se todas as condições forem verdadeiras\n",
    "\n",
    "**OR** - Exibe um registro se alguma das condições for verdadeira\n",
    "\n",
    "**NOT** - Exibe um registro que não tem a condição\n",
    "\n",
    "**IS NULL** - Verificar se o campo é sem valor\n",
    "\n",
    "**IS NOT NULL** - Verificar se o campo tem algum valor\n",
    "\n",
    "**IFNULL(r,p)** - Retorna um valor p padrão quando o registro r for do tipo NULL\n",
    "\n",
    "**EXISTS** - Usado para testar a existência de qualquer registro em uma subconsulta.\n",
    "\n",
    "**ANY** - Retorna true se algum dos valores da subconsulta atender à condição.\n",
    "\n",
    "**ALL** - Retorna true se todos os valores da subconsulta atenderem à condição."
   ]
  },
  {
   "cell_type": "markdown",
   "metadata": {},
   "source": [
    "### ORDER BY - Classifica o conjunto de resultados em uma ordem"
   ]
  },
  {
   "cell_type": "markdown",
   "metadata": {},
   "source": [
    "**ASC** - Ordem crescente (por padrão, se não escrever nada, é em ordem crescente)\n",
    "\n",
    "**DESC** - Ordem decrescente"
   ]
  },
  {
   "cell_type": "markdown",
   "metadata": {},
   "source": [
    "### TOP (ou LIMIT) - Especifica o número de registros"
   ]
  },
  {
   "cell_type": "markdown",
   "metadata": {},
   "source": [
    "**Somente número** - **SELECT TOP** number **FROM**\n",
    "\n",
    "ou no final do comando - **LIMIT** number\n",
    "\n",
    "**Porcentagem** -  **SELECT TOP** number **PERCENT FROM**"
   ]
  },
  {
   "cell_type": "markdown",
   "metadata": {},
   "source": [
    "### JOIN - Combina linhas de duas ou mais tabelas, com base em uma coluna relacionada entre elas."
   ]
  },
  {
   "cell_type": "markdown",
   "metadata": {},
   "source": [
    "**INNER JOIN** - Retorna registros que possuem valores correspondentes nas duas tabelas\n",
    "    \n",
    "**LEFT JOIN** - Retorna todos os registros da tabela da esquerda e os registros correspondentes da tabela da direita\n",
    "    \n",
    "**RIGHT JOIN** - Retorna todos os registros da tabela da direita e os registros correspondentes da tabela da esquerda\n",
    "    \n",
    "**FULL JOIN** - Retorna todos os registros quando há uma correspondência na tabela esquerda ou direita\n",
    "\n",
    "**ON** - Após ele é colocado qual coluna será relacionada entre as tabelas"
   ]
  },
  {
   "cell_type": "markdown",
   "metadata": {},
   "source": [
    "**EXEMPLO:**\n",
    "\n",
    "**SELECT** * **FROM** ((Orders **------** **JOIN** Customers **ON** Orders.CustomerID = Customers.CustomerID)"
   ]
  },
  {
   "cell_type": "code",
   "execution_count": null,
   "metadata": {},
   "outputs": [],
   "source": [
    "select c.customerName as Nome, min(p.amount) as Minimo, sum(p.amount) as Total from payments as p\n",
    "inner join customers as c\n",
    "on p.customerNumber = c.customerNumber\n",
    "where c.customerName like 'A%'\n",
    "group by p.customerNumber\n",
    "having Minimo > 2000\n",
    "order by Nome"
   ]
  },
  {
   "cell_type": "markdown",
   "metadata": {},
   "source": [
    "### UNION - usado para combinar o conjunto de resultados de duas ou mais instruções SELECT"
   ]
  },
  {
   "cell_type": "markdown",
   "metadata": {},
   "source": [
    "**UNION** - Colocado entre as instruções SELECT, seleciona apenas valores distintos por padrão.\n",
    "\n",
    "**UNION ALL** - Também colocado entre as instruções SELECT, porém seleciona todos os valores."
   ]
  },
  {
   "cell_type": "markdown",
   "metadata": {},
   "source": [
    "### GROUP BY - Serve para agrupar o conjunto de resultados em uma ou mais colunas, usado frequentemente com funções agregadas: "
   ]
  },
  {
   "cell_type": "markdown",
   "metadata": {},
   "source": [
    "**COUNT ()** - Conta quantos registros de dados foram extraidos\n",
    "\n",
    "**AVG ()** - Valor médio de uma coluna numérica\n",
    "\n",
    "**SUM ()** - Soma total de uma coluna numérica\n",
    "\n",
    "**MIN ()** - Menor valor da coluna selecionada\n",
    "\n",
    "**MAX ()** - Maior valor da coluna selecionada\n",
    "\n",
    "**HAVING** - Exerce a função de WHERE extraindo apenas os registros que atendem a uma condição especifica, pois o comando WHERE não pode ser usado com funções agregadoras"
   ]
  },
  {
   "cell_type": "markdown",
   "metadata": {},
   "source": [
    "### CASE - Passa por condições e retorna um valor quando a primeira condição é atendida"
   ]
  },
  {
   "cell_type": "markdown",
   "metadata": {},
   "source": [
    "**WHEN** - Condição a ser atendida\n",
    "\n",
    "**THEN** - O que deve ser retornado quando tal condição for verdadeira\n",
    "\n",
    "**ELSE** - O que deve ser retornado se nenhuma condição for verdadeira"
   ]
  },
  {
   "cell_type": "markdown",
   "metadata": {},
   "source": [
    "### DATA - Formato de datas"
   ]
  },
  {
   "cell_type": "markdown",
   "metadata": {},
   "source": [
    "**DATA** - Formato: AAAA-MM-DD\n",
    "\n",
    "**DATETIME** - Formato: AAAA-MM-DD HH: MI: SS\n",
    "\n",
    "**ANO** - Formato: AAAA ou AA\n",
    "\n",
    "**GETDATE()** - Retorna a data atual"
   ]
  }
 ],
 "metadata": {
  "kernelspec": {
   "display_name": "Python 3",
   "language": "python",
   "name": "python3"
  },
  "language_info": {
   "codemirror_mode": {
    "name": "ipython",
    "version": 3
   },
   "file_extension": ".py",
   "mimetype": "text/x-python",
   "name": "python",
   "nbconvert_exporter": "python",
   "pygments_lexer": "ipython3",
   "version": "3.5.2"
  }
 },
 "nbformat": 4,
 "nbformat_minor": 2
}
