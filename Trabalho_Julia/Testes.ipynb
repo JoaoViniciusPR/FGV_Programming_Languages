{
 "cells": [
  {
   "cell_type": "code",
   "execution_count": 18,
   "metadata": {},
   "outputs": [
    {
     "ename": "LoadError",
     "evalue": "ArgumentError: argument count does not match specified shape (expected 2, got 4)",
     "output_type": "error",
     "traceback": [
      "ArgumentError: argument count does not match specified shape (expected 2, got 4)",
      "",
      " in hvcat at ./abstractarray.jl:962"
     ]
    }
   ],
   "source": [
    "A = [1;2 3 4]"
   ]
  },
  {
   "cell_type": "code",
   "execution_count": 16,
   "metadata": {},
   "outputs": [
    {
     "data": {
      "text/plain": [
       "3-element Array{Int64,1}:\n",
       " 1\n",
       " 2\n",
       " 3"
      ]
     },
     "execution_count": 16,
     "metadata": {},
     "output_type": "execute_result"
    }
   ],
   "source": [
    "A = [1,2,3]"
   ]
  },
  {
   "cell_type": "code",
   "execution_count": 5,
   "metadata": {},
   "outputs": [
    {
     "data": {
      "text/plain": [
       "3-element BitArray{1}:\n",
       " false\n",
       "  true\n",
       "  true"
      ]
     },
     "execution_count": 5,
     "metadata": {},
     "output_type": "execute_result"
    }
   ],
   "source": [
    "A .== B"
   ]
  },
  {
   "cell_type": "code",
   "execution_count": 19,
   "metadata": {},
   "outputs": [
    {
     "data": {
      "text/plain": [
       "f (generic function with 2 methods)"
      ]
     },
     "execution_count": 19,
     "metadata": {},
     "output_type": "execute_result"
    }
   ],
   "source": [
    "f(x::Int64,y::Int64) = x+y\n",
    "f(x::Float64,y::Float64) = x-y"
   ]
  },
  {
   "cell_type": "code",
   "execution_count": 22,
   "metadata": {},
   "outputs": [
    {
     "data": {
      "text/plain": [
       "0.9000000000000004"
      ]
     },
     "execution_count": 22,
     "metadata": {},
     "output_type": "execute_result"
    }
   ],
   "source": [
    "f(6.5,5.6)"
   ]
  },
  {
   "cell_type": "code",
   "execution_count": 1,
   "metadata": {},
   "outputs": [
    {
     "data": {
      "text/plain": [
       "F (generic function with 1 method)"
      ]
     },
     "execution_count": 1,
     "metadata": {},
     "output_type": "execute_result"
    }
   ],
   "source": [
    "F() = print(\"Ola Mundo!\")"
   ]
  },
  {
   "cell_type": "code",
   "execution_count": 4,
   "metadata": {},
   "outputs": [
    {
     "name": "stdout",
     "output_type": "stream",
     "text": [
      "Ola Mundo!"
     ]
    }
   ],
   "source": [
    "F()"
   ]
  },
  {
   "cell_type": "code",
   "execution_count": 5,
   "metadata": {},
   "outputs": [
    {
     "data": {
      "text/plain": [
       "2//3"
      ]
     },
     "execution_count": 5,
     "metadata": {},
     "output_type": "execute_result"
    }
   ],
   "source": [
    "2//3"
   ]
  },
  {
   "cell_type": "code",
   "execution_count": 6,
   "metadata": {},
   "outputs": [
    {
     "data": {
      "text/plain": [
       "8//3"
      ]
     },
     "execution_count": 6,
     "metadata": {},
     "output_type": "execute_result"
    }
   ],
   "source": [
    "2//3 + 2"
   ]
  },
  {
   "cell_type": "code",
   "execution_count": 31,
   "metadata": {},
   "outputs": [
    {
     "ename": "LoadError",
     "evalue": "TypeError: getfield: expected Symbol, got Array{Int64,1}",
     "output_type": "error",
     "traceback": [
      "TypeError: getfield: expected Symbol, got Array{Int64,1}",
      ""
     ]
    }
   ],
   "source": [
    "L = [1,4,5,65]\n",
    "function f(x)\n",
    "    x^2+1\n",
    "end\n",
    "f.(L)"
   ]
  },
  {
   "cell_type": "code",
   "execution_count": 35,
   "metadata": {},
   "outputs": [
    {
     "ename": "LoadError",
     "evalue": "TypeError: getfield: expected Symbol, got Array{Int64,1}",
     "output_type": "error",
     "traceback": [
      "TypeError: getfield: expected Symbol, got Array{Int64,1}",
      ""
     ]
    }
   ],
   "source": [
    "function fg_1a(x)\n",
    "    return x^2+2*x+1\n",
    "end\n",
    "fg_1a.([1,2,3])"
   ]
  },
  {
   "cell_type": "code",
   "execution_count": 38,
   "metadata": {},
   "outputs": [
    {
     "data": {
      "text/plain": [
       "1x3 Array{Int64,2}:\n",
       " 4  4  4"
      ]
     },
     "execution_count": 38,
     "metadata": {},
     "output_type": "execute_result"
    }
   ],
   "source": [
    "L = [1 2 3]\n",
    "Q = [3 2 1]\n",
    "L+Q"
   ]
  },
  {
   "cell_type": "code",
   "execution_count": 39,
   "metadata": {},
   "outputs": [
    {
     "ename": "LoadError",
     "evalue": "TypeError: getfield: expected Symbol, got UnitRange{Int64}",
     "output_type": "error",
     "traceback": [
      "TypeError: getfield: expected Symbol, got UnitRange{Int64}",
      ""
     ]
    }
   ],
   "source": [
    "(x -> x^3).(1:3)"
   ]
  },
  {
   "cell_type": "code",
   "execution_count": 42,
   "metadata": {},
   "outputs": [
    {
     "ename": "LoadError",
     "evalue": "MethodError: `call` has no method matching call(::Int64, ::Int64)\u001b[0m\nClosest candidates are:\n  BoundsError()\n  BoundsError(\u001b[1m\u001b[31m::Any...\u001b[0m)\n  DivideError()\n  ...\u001b[0m",
     "output_type": "error",
     "traceback": [
      "MethodError: `call` has no method matching call(::Int64, ::Int64)\u001b[0m\nClosest candidates are:\n  BoundsError()\n  BoundsError(\u001b[1m\u001b[31m::Any...\u001b[0m)\n  DivideError()\n  ...\u001b[0m",
      "",
      " in count at ./reduce.jl:405"
     ]
    }
   ],
   "source": []
  },
  {
   "cell_type": "code",
   "execution_count": null,
   "metadata": {},
   "outputs": [],
   "source": []
  }
 ],
 "metadata": {
  "kernelspec": {
   "display_name": "Julia 0.4.5",
   "language": "julia",
   "name": "julia-0.4"
  },
  "language_info": {
   "file_extension": ".jl",
   "mimetype": "application/julia",
   "name": "julia",
   "version": "0.4.5"
  }
 },
 "nbformat": 4,
 "nbformat_minor": 2
}
