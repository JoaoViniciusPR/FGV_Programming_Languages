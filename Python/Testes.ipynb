{
 "cells": [
  {
   "cell_type": "code",
   "execution_count": 22,
   "metadata": {},
   "outputs": [],
   "source": [
    "tratamento de texto\n",
    "questão estilo uri\n",
    "classes\n",
    "gráfico"
   ]
  },
  {
   "cell_type": "code",
   "execution_count": 8,
   "metadata": {},
   "outputs": [
    {
     "data": {
      "text/plain": [
       "[16, 8, None]"
      ]
     },
     "execution_count": 8,
     "metadata": {},
     "output_type": "execute_result"
    }
   ],
   "source": [
    "l = [(5,3,7),(2,8,9),(1,5,1),(99,4,10),(6,4,7)]\n",
    "l[2] = None\n",
    "l"
   ]
  },
  {
   "cell_type": "code",
   "execution_count": 11,
   "metadata": {},
   "outputs": [
    {
     "data": {
      "text/plain": [
       "[(1, 5, 1), (5, 3, 7), (6, 4, 7), (2, 8, 9), (99, 4, 10)]"
      ]
     },
     "execution_count": 11,
     "metadata": {},
     "output_type": "execute_result"
    }
   ],
   "source": [
    "def tsort(L):\n",
    "    L1 = [m[-1] for m in L]\n",
    "    L2 = sorted(L1)\n",
    "    L3 = []\n",
    "    for i in L2:\n",
    "        j = L1.index(i)\n",
    "        L1[j] = 0\n",
    "        L3.append(j)\n",
    "    L4 = [L[p] for p in L3]\n",
    "    return(L4)\n",
    "l = [(5,3,7),(2,8,9),(1,5,1),(99,4,10),(6,4,7)]\n",
    "tsort(l)"
   ]
  },
  {
   "cell_type": "code",
   "execution_count": null,
   "metadata": {},
   "outputs": [],
   "source": []
  }
 ],
 "metadata": {
  "kernelspec": {
   "display_name": "Python 3",
   "language": "python",
   "name": "python3"
  },
  "language_info": {
   "codemirror_mode": {
    "name": "ipython",
    "version": 3
   },
   "file_extension": ".py",
   "mimetype": "text/x-python",
   "name": "python",
   "nbconvert_exporter": "python",
   "pygments_lexer": "ipython3",
   "version": "3.5.2"
  }
 },
 "nbformat": 4,
 "nbformat_minor": 2
}
