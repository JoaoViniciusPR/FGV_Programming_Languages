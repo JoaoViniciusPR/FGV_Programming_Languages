{
 "cells": [
  {
   "cell_type": "markdown",
   "metadata": {},
   "source": [
    "**1001 - Extremamente Básico**"
   ]
  },
  {
   "cell_type": "code",
   "execution_count": 3,
   "metadata": {},
   "outputs": [
    {
     "name": "stdout",
     "output_type": "stream",
     "text": [
      "1\n",
      "2\n",
      "X = 3\n"
     ]
    }
   ],
   "source": [
    "A = eval(input())\n",
    "B = eval(input())\n",
    "X = A + B\n",
    "print('X = {}'.format(X))"
   ]
  },
  {
   "cell_type": "markdown",
   "metadata": {},
   "source": [
    "**1002 - Área do Círculo**"
   ]
  },
  {
   "cell_type": "code",
   "execution_count": 3,
   "metadata": {},
   "outputs": [
    {
     "name": "stdout",
     "output_type": "stream",
     "text": [
      "2.00\n",
      "A=12.5664\n"
     ]
    }
   ],
   "source": [
    "r = eval(input())\n",
    "n = 3.14159\n",
    "A = n * (r**2)\n",
    "print('A={}'.format(\"%.4f\" % A))"
   ]
  },
  {
   "cell_type": "markdown",
   "metadata": {},
   "source": [
    "**1003 - Soma Simples**"
   ]
  },
  {
   "cell_type": "code",
   "execution_count": null,
   "metadata": {},
   "outputs": [],
   "source": [
    "A = eval(input())\n",
    "B = eval(input())\n",
    "SOMA = A + B\n",
    "print('SOMA = {}'.format(SOMA))"
   ]
  },
  {
   "cell_type": "markdown",
   "metadata": {},
   "source": [
    "**1004 - Produto Simples**"
   ]
  },
  {
   "cell_type": "code",
   "execution_count": null,
   "metadata": {},
   "outputs": [],
   "source": [
    "A = eval(input())\n",
    "B = eval(input())\n",
    "PROD = A * B\n",
    "print('PROD = {}'.format(PROD))"
   ]
  },
  {
   "cell_type": "markdown",
   "metadata": {},
   "source": [
    "**1005 - Média 1**"
   ]
  },
  {
   "cell_type": "code",
   "execution_count": 5,
   "metadata": {},
   "outputs": [
    {
     "name": "stdout",
     "output_type": "stream",
     "text": [
      "5.0\n",
      "7.1\n",
      "MEDIA = 6.43182\n"
     ]
    }
   ],
   "source": [
    "A = eval(input())\n",
    "B = eval(input())\n",
    "MEDIA = (A * 3.5 + B * 7.5)/11\n",
    "print('MEDIA = {}'.format(\"%.5f\" % MEDIA))"
   ]
  },
  {
   "cell_type": "markdown",
   "metadata": {},
   "source": [
    "**1006 - Média 2**"
   ]
  },
  {
   "cell_type": "code",
   "execution_count": 2,
   "metadata": {
    "scrolled": true
   },
   "outputs": [
    {
     "name": "stdout",
     "output_type": "stream",
     "text": [
      "1.222\n",
      "2.2\n",
      "3.999999999999\n",
      "MEDIA = 2.9\n"
     ]
    }
   ],
   "source": [
    "A = eval(input())\n",
    "B = eval(input())\n",
    "C = eval(input())\n",
    "MEDIA = (A * 2 + B * 3 + C * 5)/10\n",
    "print('MEDIA = {}'.format(\"%.1f\" % MEDIA))"
   ]
  },
  {
   "cell_type": "markdown",
   "metadata": {},
   "source": [
    "**1007 - Diferença**"
   ]
  },
  {
   "cell_type": "code",
   "execution_count": 6,
   "metadata": {},
   "outputs": [
    {
     "name": "stdout",
     "output_type": "stream",
     "text": [
      "[1,2,3,4]\n",
      "DIFERENCA = -10\n"
     ]
    }
   ],
   "source": [
    "A = eval(input())\n",
    "B = eval(input())\n",
    "C = eval(input())\n",
    "D = eval(input())\n",
    "DIFERENCA = (A*B - C*D)\n",
    "print('DIFERENCA = {}'.format(DIFERENCA))"
   ]
  },
  {
   "cell_type": "markdown",
   "metadata": {},
   "source": [
    "**1008 - Salário**"
   ]
  },
  {
   "cell_type": "code",
   "execution_count": 19,
   "metadata": {},
   "outputs": [
    {
     "name": "stdout",
     "output_type": "stream",
     "text": [
      "5\n",
      "10\n",
      "1\n",
      "NUMBER = 5\n",
      "SALARY = 10.00\n"
     ]
    }
   ],
   "source": [
    "N = eval(input())\n",
    "Q = eval(input())\n",
    "V = eval(input())\n",
    "S = Q*V\n",
    "print('NUMBER = {}'.format(N))\n",
    "print('SALARY = U$ {}'.format(\"%.2f\" % S))"
   ]
  },
  {
   "cell_type": "markdown",
   "metadata": {},
   "source": [
    "**1009 - Salário com Bônus**"
   ]
  },
  {
   "cell_type": "code",
   "execution_count": 23,
   "metadata": {},
   "outputs": [
    {
     "name": "stdout",
     "output_type": "stream",
     "text": [
      "j\n",
      "500\n",
      "1230.30\n",
      "NUMBER = j\n",
      "TOTAL = R$ 684.54\n"
     ]
    }
   ],
   "source": [
    "N = input()\n",
    "S = eval(input())\n",
    "V = eval(input())\n",
    "T = S + 0.15 * V\n",
    "print('TOTAL = R$ {}'.format(\"%.2f\" % T))"
   ]
  },
  {
   "cell_type": "markdown",
   "metadata": {},
   "source": [
    "**1010 - Cálculo Simples**"
   ]
  },
  {
   "cell_type": "code",
   "execution_count": 42,
   "metadata": {},
   "outputs": [
    {
     "name": "stdout",
     "output_type": "stream",
     "text": [
      "12 1 5.30\n",
      "16 2 5.10\n",
      "VALOR A PAGAR: R$ 15.50\n"
     ]
    }
   ],
   "source": [
    "L1 = input().split()\n",
    "L2 = input().split()\n",
    "N1 = eval(L1[1])\n",
    "V1 = eval(L1[2])\n",
    "N2 = eval(L2[1])\n",
    "V2 = eval(L2[2])\n",
    "M = N1*V1 + N2*V2\n",
    "print('VALOR A PAGAR: R$ {:.2F}'.format(M))"
   ]
  },
  {
   "cell_type": "markdown",
   "metadata": {},
   "source": [
    "**1011 - Esfera**"
   ]
  },
  {
   "cell_type": "code",
   "execution_count": 48,
   "metadata": {},
   "outputs": [
    {
     "name": "stdout",
     "output_type": "stream",
     "text": [
      "1523\n",
      "VOLUME = 14797486501.627\n"
     ]
    }
   ],
   "source": [
    "R = eval(input())\n",
    "V = 4/3 * 3.14159 * R**3\n",
    "print('VOLUME = {:.3f}'.format(V))"
   ]
  },
  {
   "cell_type": "markdown",
   "metadata": {},
   "source": [
    "**1012 - Área**"
   ]
  },
  {
   "cell_type": "code",
   "execution_count": 51,
   "metadata": {
    "scrolled": true
   },
   "outputs": [
    {
     "name": "stdout",
     "output_type": "stream",
     "text": [
      "12.7 10.4 15.2\n",
      "TRIANGULO = 96.520\n",
      "CIRCULO = 725.833\n",
      "TRAPEZIO = 175.560\n",
      "QUADRADO = 108.160\n",
      "RETANGULO = 132.080\n"
     ]
    }
   ],
   "source": [
    "L = input().split()\n",
    "A = eval(L[0])\n",
    "B = eval(L[1])\n",
    "C = eval(L[2])\n",
    "T = A*C/2\n",
    "Ci = 3.14159*C**2\n",
    "Tr = ((A+B)*C)/2\n",
    "Q = B**2\n",
    "R = A*B\n",
    "print('TRIANGULO: {:.3f}'.format(T))\n",
    "print('CIRCULO: {:.3f}'.format(Ci))\n",
    "print('TRAPEZIO: {:.3f}'.format(Tr))\n",
    "print('QUADRADO: {:.3f}'.format(Q))\n",
    "print('RETANGULO: {:.3f}'.format(R))"
   ]
  },
  {
   "cell_type": "markdown",
   "metadata": {},
   "source": [
    "**1013 - O Maior**"
   ]
  },
  {
   "cell_type": "code",
   "execution_count": 54,
   "metadata": {},
   "outputs": [
    {
     "name": "stdout",
     "output_type": "stream",
     "text": [
      "7 14 106\n",
      "106 eh o maior\n"
     ]
    }
   ],
   "source": [
    "L = input().split()\n",
    "a = eval(L[0])\n",
    "b = eval(L[1])\n",
    "c = eval(L[2])\n",
    "Mab = (a+b+abs(a-b))/2\n",
    "Mac = (a+c+abs(a-c))/2\n",
    "M = int((Mab+Mac+abs(Mab-Mac))/2)\n",
    "print('{} eh o maior'.format(M))"
   ]
  },
  {
   "cell_type": "markdown",
   "metadata": {},
   "source": [
    "**1014 - Consumo**"
   ]
  },
  {
   "cell_type": "code",
   "execution_count": null,
   "metadata": {},
   "outputs": [],
   "source": []
  }
 ],
 "metadata": {
  "kernelspec": {
   "display_name": "Python 3",
   "language": "python",
   "name": "python3"
  },
  "language_info": {
   "codemirror_mode": {
    "name": "ipython",
    "version": 3
   },
   "file_extension": ".py",
   "mimetype": "text/x-python",
   "name": "python",
   "nbconvert_exporter": "python",
   "pygments_lexer": "ipython3",
   "version": "3.5.2"
  }
 },
 "nbformat": 4,
 "nbformat_minor": 2
}
