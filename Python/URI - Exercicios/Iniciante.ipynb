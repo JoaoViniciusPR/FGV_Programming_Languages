{
 "cells": [
  {
   "cell_type": "markdown",
   "metadata": {},
   "source": [
    "**1001 - Extremamente Básico**"
   ]
  },
  {
   "cell_type": "code",
   "execution_count": 3,
   "metadata": {},
   "outputs": [
    {
     "name": "stdout",
     "output_type": "stream",
     "text": [
      "1\n",
      "2\n",
      "X = 3\n"
     ]
    }
   ],
   "source": [
    "A = eval(input())\n",
    "B = eval(input())\n",
    "X = A + B\n",
    "print('X = {}'.format(X))"
   ]
  },
  {
   "cell_type": "markdown",
   "metadata": {},
   "source": [
    "**1002 - Área do Círculo**"
   ]
  },
  {
   "cell_type": "code",
   "execution_count": 3,
   "metadata": {},
   "outputs": [
    {
     "name": "stdout",
     "output_type": "stream",
     "text": [
      "2.00\n",
      "A=12.5664\n"
     ]
    }
   ],
   "source": [
    "r = eval(input())\n",
    "n = 3.14159\n",
    "A = n * (r**2)\n",
    "print('A={}'.format(\"%.4f\" % A))"
   ]
  },
  {
   "cell_type": "markdown",
   "metadata": {},
   "source": [
    "**1003 - Soma Simples**"
   ]
  },
  {
   "cell_type": "code",
   "execution_count": null,
   "metadata": {},
   "outputs": [],
   "source": [
    "A = eval(input())\n",
    "B = eval(input())\n",
    "SOMA = A + B\n",
    "print('SOMA = {}'.format(SOMA))"
   ]
  },
  {
   "cell_type": "markdown",
   "metadata": {},
   "source": [
    "**1004 - Produto Simples**"
   ]
  },
  {
   "cell_type": "code",
   "execution_count": null,
   "metadata": {},
   "outputs": [],
   "source": [
    "A = eval(input())\n",
    "B = eval(input())\n",
    "PROD = A * B\n",
    "print('PROD = {}'.format(PROD))"
   ]
  },
  {
   "cell_type": "markdown",
   "metadata": {},
   "source": [
    "**1005 - Média 1**"
   ]
  },
  {
   "cell_type": "code",
   "execution_count": 5,
   "metadata": {},
   "outputs": [
    {
     "name": "stdout",
     "output_type": "stream",
     "text": [
      "5.0\n",
      "7.1\n",
      "MEDIA = 6.43182\n"
     ]
    }
   ],
   "source": [
    "A = eval(input())\n",
    "B = eval(input())\n",
    "MEDIA = (A * 3.5 + B * 7.5)/11\n",
    "print('MEDIA = {}'.format(\"%.5f\" % MEDIA))"
   ]
  },
  {
   "cell_type": "markdown",
   "metadata": {},
   "source": [
    "**1006 - Média 2**"
   ]
  },
  {
   "cell_type": "code",
   "execution_count": 2,
   "metadata": {
    "scrolled": true
   },
   "outputs": [
    {
     "name": "stdout",
     "output_type": "stream",
     "text": [
      "1.222\n",
      "2.2\n",
      "3.999999999999\n",
      "MEDIA = 2.9\n"
     ]
    }
   ],
   "source": [
    "A = eval(input())\n",
    "B = eval(input())\n",
    "C = eval(input())\n",
    "MEDIA = (A * 2 + B * 3 + C * 5)/10\n",
    "print('MEDIA = {}'.format(\"%.1f\" % MEDIA))"
   ]
  },
  {
   "cell_type": "markdown",
   "metadata": {},
   "source": [
    "**1007 - Diferença**"
   ]
  },
  {
   "cell_type": "code",
   "execution_count": 6,
   "metadata": {},
   "outputs": [
    {
     "name": "stdout",
     "output_type": "stream",
     "text": [
      "[1,2,3,4]\n",
      "DIFERENCA = -10\n"
     ]
    }
   ],
   "source": [
    "A = eval(input())\n",
    "B = eval(input())\n",
    "C = eval(input())\n",
    "D = eval(input())\n",
    "DIFERENCA = (A*B - C*D)\n",
    "print('DIFERENCA = {}'.format(DIFERENCA))"
   ]
  },
  {
   "cell_type": "markdown",
   "metadata": {},
   "source": [
    "**1008 - Salário**"
   ]
  },
  {
   "cell_type": "code",
   "execution_count": 19,
   "metadata": {},
   "outputs": [
    {
     "name": "stdout",
     "output_type": "stream",
     "text": [
      "5\n",
      "10\n",
      "1\n",
      "NUMBER = 5\n",
      "SALARY = 10.00\n"
     ]
    }
   ],
   "source": [
    "N = eval(input())\n",
    "Q = eval(input())\n",
    "V = eval(input())\n",
    "S = Q*V\n",
    "print('NUMBER = {}'.format(N))\n",
    "print('SALARY = U$ {}'.format(\"%.2f\" % S))"
   ]
  },
  {
   "cell_type": "markdown",
   "metadata": {},
   "source": [
    "**1009 - Salário com Bônus**"
   ]
  },
  {
   "cell_type": "code",
   "execution_count": 23,
   "metadata": {},
   "outputs": [
    {
     "name": "stdout",
     "output_type": "stream",
     "text": [
      "j\n",
      "500\n",
      "1230.30\n",
      "NUMBER = j\n",
      "TOTAL = R$ 684.54\n"
     ]
    }
   ],
   "source": [
    "N = input()\n",
    "S = eval(input())\n",
    "V = eval(input())\n",
    "T = S + 0.15 * V\n",
    "print('TOTAL = R$ {}'.format(\"%.2f\" % T))"
   ]
  },
  {
   "cell_type": "markdown",
   "metadata": {},
   "source": [
    "**1010 - Cálculo Simples**"
   ]
  },
  {
   "cell_type": "code",
   "execution_count": 42,
   "metadata": {},
   "outputs": [
    {
     "name": "stdout",
     "output_type": "stream",
     "text": [
      "12 1 5.30\n",
      "16 2 5.10\n",
      "VALOR A PAGAR: R$ 15.50\n"
     ]
    }
   ],
   "source": [
    "L1 = input().split()\n",
    "L2 = input().split()\n",
    "N1 = eval(L1[1])\n",
    "V1 = eval(L1[2])\n",
    "N2 = eval(L2[1])\n",
    "V2 = eval(L2[2])\n",
    "M = N1*V1 + N2*V2\n",
    "print('VALOR A PAGAR: R$ {:.2F}'.format(M))"
   ]
  },
  {
   "cell_type": "markdown",
   "metadata": {},
   "source": [
    "**1011 - Esfera**"
   ]
  },
  {
   "cell_type": "code",
   "execution_count": 48,
   "metadata": {},
   "outputs": [
    {
     "name": "stdout",
     "output_type": "stream",
     "text": [
      "1523\n",
      "VOLUME = 14797486501.627\n"
     ]
    }
   ],
   "source": [
    "R = eval(input())\n",
    "V = 4/3 * 3.14159 * R**3\n",
    "print('VOLUME = {:.3f}'.format(V))"
   ]
  },
  {
   "cell_type": "markdown",
   "metadata": {},
   "source": [
    "**1012 - Área**"
   ]
  },
  {
   "cell_type": "code",
   "execution_count": 51,
   "metadata": {
    "scrolled": true
   },
   "outputs": [
    {
     "name": "stdout",
     "output_type": "stream",
     "text": [
      "12.7 10.4 15.2\n",
      "TRIANGULO = 96.520\n",
      "CIRCULO = 725.833\n",
      "TRAPEZIO = 175.560\n",
      "QUADRADO = 108.160\n",
      "RETANGULO = 132.080\n"
     ]
    }
   ],
   "source": [
    "L = input().split()\n",
    "A = eval(L[0])\n",
    "B = eval(L[1])\n",
    "C = eval(L[2])\n",
    "T = A*C/2\n",
    "Ci = 3.14159*C**2\n",
    "Tr = ((A+B)*C)/2\n",
    "Q = B**2\n",
    "R = A*B\n",
    "print('TRIANGULO: {:.3f}'.format(T))\n",
    "print('CIRCULO: {:.3f}'.format(Ci))\n",
    "print('TRAPEZIO: {:.3f}'.format(Tr))\n",
    "print('QUADRADO: {:.3f}'.format(Q))\n",
    "print('RETANGULO: {:.3f}'.format(R))"
   ]
  },
  {
   "cell_type": "markdown",
   "metadata": {},
   "source": [
    "**1013 - O Maior**"
   ]
  },
  {
   "cell_type": "code",
   "execution_count": 54,
   "metadata": {},
   "outputs": [
    {
     "name": "stdout",
     "output_type": "stream",
     "text": [
      "7 14 106\n",
      "106 eh o maior\n"
     ]
    }
   ],
   "source": [
    "L = input().split()\n",
    "a = eval(L[0])\n",
    "b = eval(L[1])\n",
    "c = eval(L[2])\n",
    "Mab = (a+b+abs(a-b))/2\n",
    "Mac = (a+c+abs(a-c))/2\n",
    "M = int((Mab+Mac+abs(Mab-Mac))/2)\n",
    "print('{} eh o maior'.format(M))"
   ]
  },
  {
   "cell_type": "markdown",
   "metadata": {},
   "source": [
    "**1014 - Consumo**"
   ]
  },
  {
   "cell_type": "code",
   "execution_count": 3,
   "metadata": {},
   "outputs": [
    {
     "name": "stdout",
     "output_type": "stream",
     "text": [
      "2254\n",
      "124.4\n",
      "18.119 km/l\n"
     ]
    }
   ],
   "source": [
    "X = eval(input())\n",
    "Y = eval(input())\n",
    "Cm = X/Y\n",
    "print('{:.3f} km/l'.format(Cm))"
   ]
  },
  {
   "cell_type": "markdown",
   "metadata": {},
   "source": [
    "**1015 - Distância entre dois pontos**"
   ]
  },
  {
   "cell_type": "code",
   "execution_count": 5,
   "metadata": {},
   "outputs": [
    {
     "name": "stdout",
     "output_type": "stream",
     "text": [
      "1.0 7.0\n",
      "5 9\n",
      "4.4721\n"
     ]
    }
   ],
   "source": [
    "P1 = input().split()\n",
    "P2 = input().split()\n",
    "X1= eval(P1[0])\n",
    "Y1 = eval(P1[1])\n",
    "X2 = eval(P2[0])\n",
    "Y2 = eval(P2[1])\n",
    "D = ((X2-X1)**2 + (Y2-Y1)**2)**(1/2)\n",
    "print('{:.4f}'.format(D))"
   ]
  },
  {
   "cell_type": "markdown",
   "metadata": {},
   "source": [
    "**1016 - Distância**"
   ]
  },
  {
   "cell_type": "code",
   "execution_count": 6,
   "metadata": {},
   "outputs": [
    {
     "name": "stdout",
     "output_type": "stream",
     "text": [
      "60\n",
      "120 minutos\n"
     ]
    }
   ],
   "source": [
    "K = eval(input())\n",
    "D = K*2\n",
    "print('{} minutos'.format(D))"
   ]
  },
  {
   "cell_type": "markdown",
   "metadata": {},
   "source": [
    "**1017 - Gasto de Combustível**"
   ]
  },
  {
   "cell_type": "code",
   "execution_count": 7,
   "metadata": {},
   "outputs": [
    {
     "name": "stdout",
     "output_type": "stream",
     "text": [
      "10\n",
      "85\n",
      "70.833\n"
     ]
    }
   ],
   "source": [
    "T = eval(input())\n",
    "Vm = eval(input())\n",
    "D = T*Vm\n",
    "C = D/12\n",
    "print('{:.3f}'.format(C))"
   ]
  },
  {
   "cell_type": "markdown",
   "metadata": {},
   "source": [
    "**1018 - Cédulas**"
   ]
  },
  {
   "cell_type": "code",
   "execution_count": 38,
   "metadata": {},
   "outputs": [
    {
     "name": "stdout",
     "output_type": "stream",
     "text": [
      "11257\n",
      "11257\n",
      "112 nota(s) de R$ 100,00\n",
      "1 nota(s) de R$ 50,00\n",
      "0 nota(s) de R$ 20,00\n",
      "0 nota(s) de R$ 10,00\n",
      "1 nota(s) de R$ 5,00\n",
      "1 nota(s) de R$ 2,00\n",
      "0 nota(s) de R$ 1,00\n"
     ]
    }
   ],
   "source": [
    "N = eval(input())\n",
    "L = [N+1,100,50,20,10,5,2,1]\n",
    "x = 0\n",
    "print(N)\n",
    "while x < len(L)-1:\n",
    "    x += 1\n",
    "    a = (N%L[x-1])//L[x]\n",
    "    N = N%L[x]\n",
    "    print('{} nota(s) de R$ {},00'.format(a,L[x]))"
   ]
  },
  {
   "cell_type": "markdown",
   "metadata": {},
   "source": [
    "**1019 - Conversão de Tempo**"
   ]
  },
  {
   "cell_type": "code",
   "execution_count": 43,
   "metadata": {},
   "outputs": [
    {
     "name": "stdout",
     "output_type": "stream",
     "text": [
      "140153\n",
      "38:55:53\n"
     ]
    }
   ],
   "source": [
    "N = eval(input())\n",
    "A = N//3600\n",
    "B = (N%3600)//60\n",
    "C = N%60\n",
    "print('{}:{}:{}'.format(A,B,C))"
   ]
  },
  {
   "cell_type": "markdown",
   "metadata": {},
   "source": [
    "**1020 - Idade em Dias**"
   ]
  },
  {
   "cell_type": "code",
   "execution_count": 45,
   "metadata": {},
   "outputs": [
    {
     "name": "stdout",
     "output_type": "stream",
     "text": [
      "800\n",
      "2 ano(s)\n",
      "2 mes(es)\n",
      "10 dia(s)\n"
     ]
    }
   ],
   "source": [
    "N = eval(input())\n",
    "A = N//365\n",
    "M = (N%365)//30\n",
    "D = (N%36)%30\n",
    "print('{} ano(s)'.format(A))\n",
    "print('{} mes(es)'.format(M))\n",
    "print('{} dia(s)'.format(D))"
   ]
  },
  {
   "cell_type": "markdown",
   "metadata": {},
   "source": [
    "**1021 - Notas e Moedas**"
   ]
  },
  {
   "cell_type": "code",
   "execution_count": 57,
   "metadata": {},
   "outputs": [
    {
     "name": "stdout",
     "output_type": "stream",
     "text": [
      "91.01\n",
      "NOTAS:\n",
      "0 nota(s) de R$ 100.00\n",
      "1 nota(s) de R$ 50.00\n",
      "2 nota(s) de R$ 20.00\n",
      "0 nota(s) de R$ 10.00\n",
      "0 nota(s) de R$ 5.00\n",
      "0 nota(s) de R$ 2.00\n",
      "MOEDAS:\n",
      "1 moeda(s) de R$ 1.00\n",
      "0 moeda(s) de R$ 0.50\n",
      "0 moeda(s) de R$ 0.25\n",
      "0 moeda(s) de R$ 0.10\n",
      "0 moeda(s) de R$ 0.05\n",
      "1 moeda(s) de R$ 0.01\n"
     ]
    }
   ],
   "source": [
    "N = eval(input())\n",
    "I = int(N)\n",
    "D = N-I\n",
    "L = [I+1,100,50,20,10,5,2]\n",
    "x = 0\n",
    "print('NOTAS:')\n",
    "while x < len(L)-1:\n",
    "    x += 1\n",
    "    a = (I%L[x-1])//L[x]\n",
    "    I = I%L[x]\n",
    "    print('{} nota{:.2f}'.format(a,L[x]))\n",
    "D = int((D+I)*100)\n",
    "M = [D+1,100,50,25,10,5,1]\n",
    "y = 0\n",
    "print('MOEDAS:')\n",
    "while y< len(M)-1:\n",
    "    y += 1\n",
    "    b = (D%M[y-1])//M[y]\n",
    "    D = D%M[y]\n",
    "    print('{} moeda(s) de R$ {:.2f}'.format(b,M[y]/100))"
   ]
  },
  {
   "cell_type": "markdown",
   "metadata": {},
   "source": [
    "**1022 - TDA Racional**"
   ]
  },
  {
   "cell_type": "code",
   "execution_count": 4,
   "metadata": {},
   "outputs": [
    {
     "name": "stdout",
     "output_type": "stream",
     "text": [
      "2\n",
      "1 2\n",
      "1 2 3\n"
     ]
    },
    {
     "data": {
      "text/plain": [
       "[['1', '2'], ['1', '2', '3']]"
      ]
     },
     "execution_count": 4,
     "metadata": {},
     "output_type": "execute_result"
    }
   ],
   "source": [
    "def f(A):\n",
    "    if A[3] == '+':\n",
    "        N,D = eval(A[0])*eval(A[6])+eval(A[2])*eval(A[4]),eval(A[2])*eval(A[6])\n",
    "    elif A[3] == '-':\n",
    "        N,D = eval(A[0])*eval(A[6])-eval(A[2])*eval(A[4]),eval(A[2])*eval(A[6])\n",
    "    elif A[3] == '*':\n",
    "        N,D = eval(A[0])*eval(A[4]),eval(A[2])*eval(A[6])\n",
    "    elif A[3] == '/':\n",
    "        N,D = eval(A[0])*eval(A[6]),eval(A[2])*eval(A[4])\n",
    "    return(N,D)\n",
    "M = eval(input())\n",
    "L = []\n",
    "for i in range(M):\n",
    "    C = input().split()\n",
    "    L.append(C)\n",
    "for j in range(M):\n",
    "    n,d = f(M[j])\n",
    "    print('{}/{}'.format(n,d))"
   ]
  },
  {
   "cell_type": "markdown",
   "metadata": {},
   "source": [
    "**1035 - Teste de Seleção 1**"
   ]
  },
  {
   "cell_type": "code",
   "execution_count": 65,
   "metadata": {},
   "outputs": [
    {
     "name": "stdout",
     "output_type": "stream",
     "text": [
      "2 3 2 6\n",
      "Valores aceitos\n"
     ]
    }
   ],
   "source": [
    "L = input().split()\n",
    "[A,B,C,D] = [int(l) for l in L]\n",
    "if B>C and D>A and C+D>A+B and C>=0 and D>=0 and A%2 == 0:\n",
    "        print('Valores aceitos')\n",
    "else:\n",
    "    print('Valores nao aceitos')"
   ]
  },
  {
   "cell_type": "markdown",
   "metadata": {},
   "source": [
    "**1036 - Fórmula de Bhaskara**"
   ]
  },
  {
   "cell_type": "code",
   "execution_count": 77,
   "metadata": {},
   "outputs": [
    {
     "name": "stdout",
     "output_type": "stream",
     "text": [
      "10.0 20.1 5.1    \n",
      "R1 = -0.29788\n",
      "R2 = -1.71212\n"
     ]
    }
   ],
   "source": [
    "L = input().split()\n",
    "[A,B,C] = [eval(l) for l in L]\n",
    "D = B**2 - 4*A*C\n",
    "if D>=0 and A!=0:\n",
    "    R1 = (-B+(D**(1/2)))/(2*A)\n",
    "    R2 = (-B-(D**(1/2)))/(2*A)\n",
    "    print('R1 = {:.5f}'.format(R1))\n",
    "    print('R2 = {:.5f}'.format(R2))\n",
    "else:\n",
    "    print('Impossivel calcular')"
   ]
  },
  {
   "cell_type": "markdown",
   "metadata": {},
   "source": [
    "**1037 - Intervalo**"
   ]
  },
  {
   "cell_type": "code",
   "execution_count": 79,
   "metadata": {},
   "outputs": [
    {
     "name": "stdout",
     "output_type": "stream",
     "text": [
      "65\n",
      "Intervalo (50,75]\n"
     ]
    }
   ],
   "source": [
    "n = eval(input())\n",
    "if n>=0 and n<=25:\n",
    "    print('Intervalo [0,25]')\n",
    "elif n>25 and n<=50:\n",
    "    print('Intervalo (25,50]')\n",
    "elif n>50 and n<=75:\n",
    "    print('Intervalo (50,75]')\n",
    "elif n>75 and n<=100:\n",
    "    print('Intervalo (75,100]')\n",
    "else:\n",
    "    print('Fora de intervalo')"
   ]
  },
  {
   "cell_type": "markdown",
   "metadata": {},
   "source": [
    "**1038 - Lanche**"
   ]
  },
  {
   "cell_type": "code",
   "execution_count": 111,
   "metadata": {},
   "outputs": [
    {
     "name": "stdout",
     "output_type": "stream",
     "text": [
      "3 2\n",
      "Total: R$ 10.00\n"
     ]
    }
   ],
   "source": [
    "L = input().split()\n",
    "[C,Q] = [eval(l) for l in L]\n",
    "dic = {'Código':'Preço','1':4.00,'2':4.50,'3':5.00,'4':2.00,'5':1.50}\n",
    "T = dic['{}'.format(C)]*Q\n",
    "print('Total: R$ {:.2f}'.format(T))"
   ]
  },
  {
   "cell_type": "code",
   "execution_count": null,
   "metadata": {},
   "outputs": [],
   "source": []
  }
 ],
 "metadata": {
  "kernelspec": {
   "display_name": "Python 3",
   "language": "python",
   "name": "python3"
  },
  "language_info": {
   "codemirror_mode": {
    "name": "ipython",
    "version": 3
   },
   "file_extension": ".py",
   "mimetype": "text/x-python",
   "name": "python",
   "nbconvert_exporter": "python",
   "pygments_lexer": "ipython3",
   "version": "3.5.2"
  }
 },
 "nbformat": 4,
 "nbformat_minor": 2
}
