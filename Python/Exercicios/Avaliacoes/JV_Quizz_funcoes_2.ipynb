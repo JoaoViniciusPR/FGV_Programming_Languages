{
 "cells": [
  {
   "cell_type": "markdown",
   "metadata": {},
   "source": [
    "1 - Dadas uma lista qualquer, como a do exemplo abaixo:"
   ]
  },
  {
   "cell_type": "code",
   "execution_count": 6,
   "metadata": {},
   "outputs": [],
   "source": [
    "lista1 = [1,2,3,'4',5,6.3,7.4 + 2j,\"123\",[1,2,3], 93, \"98\", (1,2,3,'4')] 124 0 0 0 80"
   ]
  },
  {
   "cell_type": "markdown",
   "metadata": {},
   "source": [
    "Crie uma função recursiva para imprimir o antecessor e o sucessor de cada elemento de uma lista:\n",
    "+ Caso este elemento seja inteiro, imprimir o valor;  \n",
    "+ Caso seja uma string, imprimir o inteiro correspondente;  \n",
    "+ Caso seja um real, imprima a parte inteira;\n",
    "+ Caso seja um imaginário, imprima a parte inteira e real;\n",
    "+ Caso seja uma sequência, aplique as regras acima para cada elemento da sequência.  "
   ]
  },
  {
   "cell_type": "code",
   "execution_count": 11,
   "metadata": {},
   "outputs": [
    {
     "data": {
      "text/plain": [
       "[1, 2, 3, 4, 5, 6, 7, 123, [1, 2, 3], 93, 98, [1, 2, 3, 4]]"
      ]
     },
     "execution_count": 11,
     "metadata": {},
     "output_type": "execute_result"
    }
   ],
   "source": [
    "def ant_suc(lista):\n",
    "    l = []\n",
    "    aux = []\n",
    "    for i in range(len(lista)):\n",
    "        a = lista[i]\n",
    "        if type(a) == int or type(a) == float or type(a) == str:\n",
    "            b = int(float(a))\n",
    "        elif type(a) == complex:\n",
    "            b = int(a.real)\n",
    "        else:\n",
    "            b = ant_suc(a)\n",
    "        aux.append(b)\n",
    "    return(aux)\n",
    "    for i in range(len(aux)):\n",
    "        c = aux[i]\n",
    "ant_suc(lista1)"
   ]
  },
  {
   "cell_type": "markdown",
   "metadata": {},
   "source": [
    "2 - Crie uma função, ou conjunto de funções, para exibir por extenso o valor de qualquer número inteiro até 1000.  \n",
    "Exemplo:  \n",
    "\n",
    "    print(imprime_extenso(234))  \n",
    "    > 'duzentos e trinta e quatro'  "
   ]
  },
  {
   "cell_type": "code",
   "execution_count": null,
   "metadata": {
    "collapsed": true
   },
   "outputs": [],
   "source": [
    "def extenso(x):\n",
    "    if x not in range(1001):\n",
    "        break\n",
    "    a = x % 10\n",
    "    b = x % (100 - a)/10\n",
    "    c = x % (1000 - a - b)/100\n",
    "    dic_a = {0:'',1:'um',2:'dois',3:'três',4:'quatro',5:'cinco',6:'seis',7:'sete',8:'oito',9:'nove'}\n",
    "    dic_b = {0:'',1:'dez',2:'vinte',3:'trinta',4:'quarenta',5:'cinquenta',6:'sessenta',7:'setenta',8:'oitenta',9:'noventa'}\n",
    "    dic_c = {0:'',1:'cem',2:'duzentos',3:'trezentos',4:'quatrocentos',5:'quinhentos',6:'seiscentos',7:'setecentos',8:'oitocentos',9:'novecentos'}\n",
    "    "
   ]
  },
  {
   "cell_type": "markdown",
   "metadata": {},
   "source": [
    "3- Em alguns lugares é comum lembrar um número do telefone associando seus dígitos a letras. Dessa maneira a expressão MY LOVE significa 69 5683. Claro que existem alguns problemas, uma vez que alguns números de telefone não formam uma palavra ou uma frase e os dígitos 1 e 0 não estão associados a nenhuma letra.  \n",
    "\n",
    "Sua tarefa é ler uma expressão e encontrar o número de telefone correspondente baseado na tabela abaixo. Uma expressão é composta por letras maiúsculas (A-Z), hifens (-) e os números 1 e 0.  \n",
    "\n",
    "Letras  ->  Número  \n",
    "ABC    ->  2   \n",
    "DEF    ->  3   \n",
    "GHI    ->  4   \n",
    "JKL    ->  5   \n",
    "MNO    ->  6   \n",
    "PQRS    ->  7   \n",
    "TUV    ->  8   \n",
    "WXYZ   ->  9   \n",
    "\n",
    "Entrada  \n",
    "\n",
    "A entrada consiste de um conjunto de expressões. Cada expressão está sozinha em uma linha e possui C caracteres, onde 1 ≤ C ≤ 30. A entrada é terminada por fim de arquivo (EOF).  \n",
    "\n",
    "Saída  \n",
    "\n",
    "Para cada expressão você deve imprimir o número de telefone correspondente.  \n",
    "\n",
    "Exemplo de entrada:  \n",
    "\n",
    "1-HOME-SWEET-HOME  \n",
    "MY-MISERABLE-JOB  \n",
    "\n",
    "Saída correspondente:\n",
    "\n",
    "1-4663-79338-4663  \n",
    "69-647372253-562  "
   ]
  },
  {
   "cell_type": "code",
   "execution_count": 60,
   "metadata": {},
   "outputs": [
    {
     "ename": "IndentationError",
     "evalue": "expected an indented block (<ipython-input-60-c190229f881e>, line 14)",
     "output_type": "error",
     "traceback": [
      "\u001b[0;36m  File \u001b[0;32m\"<ipython-input-60-c190229f881e>\"\u001b[0;36m, line \u001b[0;32m14\u001b[0m\n\u001b[0;31m    elif b == '-':\u001b[0m\n\u001b[0m       ^\u001b[0m\n\u001b[0;31mIndentationError\u001b[0m\u001b[0;31m:\u001b[0m expected an indented block\n"
     ]
    }
   ],
   "source": [
    "def questao3(l_exp):\n",
    "    dic = {'ABC':2,'DEF':3,'GHI':4,'JKL':5,'MNO':6,'PQRS':7,'TUV':8,'WXYZ':9}\n",
    "    N = []\n",
    "    exps = l_exp.splitlines()\n",
    "    for a in exps:\n",
    "        L = list(a)\n",
    "        for b in L:\n",
    "            if b == '1':\n",
    "                N.append(1)\n",
    "            elif b == '0':\n",
    "                N.append(0)\n",
    "            elif b in dic.keys:\n",
    "                \n",
    "            elif b == '-':\n",
    "                N.extend('-')\n",
    "    return N\n",
    "questao3('1-HOME-SWEET-HOME')"
   ]
  },
  {
   "cell_type": "markdown",
   "metadata": {},
   "source": [
    "4- Dada um texto em formato string, encontre todas as palavras pertencentes a esta string que contenham uma determinada letra, passada como parâmetro. "
   ]
  },
  {
   "cell_type": "code",
   "execution_count": 18,
   "metadata": {},
   "outputs": [
    {
     "name": "stdout",
     "output_type": "stream",
     "text": [
      "['Dado', 'formato', 'todas', 'as', 'palavras', 'a', 'esta', 'contenham', 'uma', 'determinada', 'letra,', 'passada', 'parâmetro.']\n"
     ]
    }
   ],
   "source": [
    "texto = 'Dado um texto em formato string, encontre todas as palavras pertencentes a esta string que contenham uma determinada letra, passada como parâmetro.'\n",
    "def questao4(texto,a):\n",
    "    palavras = [x for x in texto.split() if 'a' in x.lower()]\n",
    "    print(palavras)\n",
    "questao4(texto,a)"
   ]
  },
  {
   "cell_type": "code",
   "execution_count": 29,
   "metadata": {},
   "outputs": [
    {
     "ename": "TypeError",
     "evalue": "'int' object is not iterable",
     "output_type": "error",
     "traceback": [
      "\u001b[0;31m---------------------------------------------------------------------------\u001b[0m",
      "\u001b[0;31mTypeError\u001b[0m                                 Traceback (most recent call last)",
      "\u001b[0;32m<ipython-input-29-cbb256704e22>\u001b[0m in \u001b[0;36m<module>\u001b[0;34m()\u001b[0m\n\u001b[1;32m      1\u001b[0m \u001b[0ml\u001b[0m \u001b[0;34m=\u001b[0m \u001b[0;34m[\u001b[0m\u001b[0;36m1\u001b[0m\u001b[0;34m,\u001b[0m\u001b[0;36m2\u001b[0m\u001b[0;34m,\u001b[0m\u001b[0;36m3\u001b[0m\u001b[0;34m]\u001b[0m\u001b[0;34m\u001b[0m\u001b[0m\n\u001b[0;32m----> 2\u001b[0;31m \u001b[0ml\u001b[0m\u001b[0;34m.\u001b[0m\u001b[0mextend\u001b[0m\u001b[0;34m(\u001b[0m\u001b[0;36m1\u001b[0m\u001b[0;34m)\u001b[0m\u001b[0;34m\u001b[0m\u001b[0m\n\u001b[0m",
      "\u001b[0;31mTypeError\u001b[0m: 'int' object is not iterable"
     ]
    }
   ],
   "source": [
    "l = [1,2,3]\n",
    "l.extend(1)"
   ]
  },
  {
   "cell_type": "code",
   "execution_count": 36,
   "metadata": {},
   "outputs": [
    {
     "data": {
      "text/plain": [
       "'aaa'"
      ]
     },
     "execution_count": 36,
     "metadata": {},
     "output_type": "execute_result"
    }
   ],
   "source": [
    "dicts = {1:'e',8:'aaa'}\n",
    "dicts[8]"
   ]
  },
  {
   "cell_type": "code",
   "execution_count": 42,
   "metadata": {},
   "outputs": [
    {
     "data": {
      "text/plain": [
       "['a', 'a', 'a', 'a', 'a', 'a', 'a']"
      ]
     },
     "execution_count": 42,
     "metadata": {},
     "output_type": "execute_result"
    }
   ],
   "source": [
    "list('aaaaaaa')"
   ]
  },
  {
   "cell_type": "code",
   "execution_count": null,
   "metadata": {},
   "outputs": [],
   "source": []
  }
 ],
 "metadata": {
  "kernelspec": {
   "display_name": "Python 3",
   "language": "python",
   "name": "python3"
  },
  "language_info": {
   "codemirror_mode": {
    "name": "ipython",
    "version": 3
   },
   "file_extension": ".py",
   "mimetype": "text/x-python",
   "name": "python",
   "nbconvert_exporter": "python",
   "pygments_lexer": "ipython3",
   "version": "3.5.2"
  }
 },
 "nbformat": 4,
 "nbformat_minor": 2
}
