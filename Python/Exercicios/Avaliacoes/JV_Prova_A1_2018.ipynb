{
 "cells": [
  {
   "cell_type": "markdown",
   "metadata": {},
   "source": [
    "A1 de Linguagens de Programação – 19/09/2018\n",
    "--\n",
    "Professor: Renato Rocha Souza  \n",
    "--"
   ]
  },
  {
   "cell_type": "markdown",
   "metadata": {},
   "source": [
    "Nome do Aluno(a):"
   ]
  },
  {
   "cell_type": "code",
   "execution_count": 150,
   "metadata": {},
   "outputs": [
    {
     "name": "stdout",
     "output_type": "stream",
     "text": [
      "Entre com o seu nome completo: Joao Vinicius Primaki Prado\n",
      "Olá, Joao Vinicius Primaki Prado!\n",
      "Bom trabalho!\n"
     ]
    }
   ],
   "source": [
    "meu_nome = input('Entre com o seu nome completo: ')\n",
    "print('Olá, {}!'.format(meu_nome))\n",
    "print('Bom trabalho!')"
   ]
  },
  {
   "cell_type": "code",
   "execution_count": 3,
   "metadata": {},
   "outputs": [],
   "source": [
    "# Somente estes módulos podem ser importados para a realização das questões\n",
    "import numpy as np\n",
    "import matplotlib.pyplot as plt\n",
    "import random\n",
    "import re\n",
    "import string\n",
    "import time\n",
    "from IPython.display import clear_output\n",
    "%matplotlib inline"
   ]
  },
  {
   "cell_type": "markdown",
   "metadata": {},
   "source": [
    "Questão 1 (2.5 pontos)  \n",
    "\n",
    "Partindo do código abaixo, escreva comandos para realizar as seguintes tarefas:  \n",
    "a) Crie uma função genérica para construir um dicionário de frequências de palavras de um texto (string), passado como parâmetro. Aplique a função ao texto;  \n",
    "b) Identifique os candidatos a nomes próprios no texto;  \n",
    "c) Imagine que o texto seja constituído pela soma de suas letras, com repetições. Com esta \"caixa de letras\", quantas vezes você conseguiria escrever seu nome completo? Use as letras da variável meu_nome, sem os espaços em branco.  \n",
    "d) Identifique as palavras que só ocorrem uma vez;  \n",
    "e) Crie código para salvar os resultados em um arquivo chamado \"respostas_q1.txt\" no computador.  "
   ]
  },
  {
   "cell_type": "code",
   "execution_count": 5,
   "metadata": {},
   "outputs": [],
   "source": [
    "with open('../../Dados/DomCasmurroMachadoAssis.txt', 'r', encoding='utf-8') as f:\n",
    "    texto = f.read()"
   ]
  },
  {
   "cell_type": "code",
   "execution_count": 257,
   "metadata": {},
   "outputs": [],
   "source": [
    "texto = '''Quent tem 18 anos e está no último ano do ensino médio. Pode se dizer que ele é um nerd, mas não é aquele looser que não tem amigos ou algo do tipo. Ele possui dois melhores amigos: Ben Starling e Marcus “Radar” Lincoln.\n",
    "Enquanto Ben é aquele típico adolescente que só pensa em conquistar garotas ou “gatinhas” como ele costumava falar, Marcus apesar de possuir uma namorada, tem como seu foco principal o seu site que é uma espécie de Wikipédia chamada de Omnictionary.\n",
    "Quentin que é narrador do livro, é apaixonado por sua vizinha Margo. Quando pequenos eles costumavam brincar juntos. Porém quando cresceram e se tornaram adolescentes passaram a viver em mundos diferentes.\n",
    "Margo era uma daquelas garotas populares da escola enquanto Quentin estava mais para um nerd. Esta distância aumenta ainda mais a paixão platônica que ele sente por ela.\n",
    "Até aí a história conta apenas a rotina de adolescentes comuns com seus problemas e dilemas da idade. No entanto uma atitude de Margo muda totalmente o foco do enredo.\n",
    "Ela entra pela janela do quarto de Quentin no meio da madrugada o que o deixa muito assustado. Além disso, ela está com o rosto pintando e com uma roupa de ninja.\n",
    "Margo acaba convencendo Quentin a entrar em uma noite de aventuras. Na verdade, o objetivo dela era fazer uma série de vinganças contra algumas pessoas entre elas seu agora ex-namorado e suas supostas amigas.\n",
    "Eles armam as vinganças mais divertidas e inusitadas e Quentin acha incrível estar ali lado a lado com a garota por quem ele sempre foi apaixonado.\n",
    "Após o fim das aventuras naquela noite Quentin se sente feliz por ter retomado o contato com a garota que gostava. Porém no dia seguinte algo estranho acontece. Ele foi para o colégio e não encontrou a moça.\n",
    "Margo também não foi para a aula nos outros dias subsequentes. Isso deixou Quentin preocupado por isso ele foi questionar os pais de Margo.\n",
    "Ele acabou descobrindo que ela tinha alguns mistérios e que costumava fugir de vez em quando, mas que sempre deixava algum tipo de pista para que as pessoas descobrissem seu paradeiro.\n",
    "Certa vez ela fugiu para a Disney e deixou um Mickey em sua cama. Em outra oportunidade ela deixou uma sopa de letrinhas com as letras que formam a palavra Minnesota, estado para onde ela tinha fugido.\n",
    "Na janela do quarto de Margo ela deixou um cartaz de uma banda. No álbum encontrado dentro do quarto dela uma das músicas está circulada na capa do CD. A música se chama “venha me encontrar” mesmo nome de um dos livros preferidos dela.\n",
    "As pistas acabam levando eles a acreditarem que ela estaria em Agloe. Só que essa não é uma cidade comum.\n",
    "Ela é uma cidade de papel o que isso que ela é uma cidade fictícia que é criada em mapas e foi usada por muitos países durante a Guerra Fria, por exemplo.\n",
    "Sabendo disso, Quentin e seus amigos iniciam uma aventura para descobrirem o paradeiro da moça misteriosa, a partir de pistas que ela deixou para Quentin.\n",
    "No final Quentin acaba encontrando sua amada, depois que seus amigos já tinham desistido da aventura e tinham voltado para a cidade para o seu baile de formatura.  \n",
    "Quando Quentin já estava indo embora, Margo acaba aparecendo. Eles acabam se beijando e prometendo manter contato. Quentin volta para sua cidade enquanto Margo mantém seus mistérios.\n",
    "'''"
   ]
  },
  {
   "cell_type": "code",
   "execution_count": 258,
   "metadata": {},
   "outputs": [],
   "source": [
    "palavrinhas = [v.lower().strip(string.punctuation+string.digits+'”'+'“'+'‘'+'’') for v in texto.split()]\n",
    "repeticoes = {a:palavrinhas.count(a) for a in palavrinhas}\n",
    "if '' in repeticoes:\n",
    "    repeticoes.pop('')"
   ]
  },
  {
   "cell_type": "code",
   "execution_count": 273,
   "metadata": {},
   "outputs": [],
   "source": [
    "palavras = texto.split()\n",
    "candidatos = []\n",
    "for a in range(len(palavras)):\n",
    "    x = palavras[a]\n",
    "    z = '0'\n",
    "    if a != 0:\n",
    "        z = palavras[a-1]\n",
    "    if x.istitle():\n",
    "        if z.rstrip('.'+'!'+'?') == z or a == 0:\n",
    "            if x not in pnomes:\n",
    "                candidatos.append(x)"
   ]
  },
  {
   "cell_type": "code",
   "execution_count": null,
   "metadata": {},
   "outputs": [],
   "source": [
    "letras = [(string.ascii_lowercase[x],texto.count(string.ascii_lowercase[x])) for x in range(26)]\n",
    "print(letras)\n",
    "letras_meunome = [(string.ascii_lowercase[x],(meu_nome.lower()).count(string.ascii_lowercase[x])) for x in range(26)]\n",
    "print(letras_meunome)\n",
    "aux = [0]*26\n",
    "for i in range(26):\n",
    "    if letras_meunome[i][1] != 0:\n",
    "        aux[i] = letras[i][1]//letras_meunome[i][1]\n",
    "aux = [z for z in aux if z!=0]\n",
    "quantidade = min(aux)"
   ]
  },
  {
   "cell_type": "code",
   "execution_count": null,
   "metadata": {},
   "outputs": [],
   "source": [
    "palavras_uma = [c for c in repeticoes.keys() if repeticoes[c] == 1]"
   ]
  },
  {
   "cell_type": "code",
   "execution_count": null,
   "metadata": {},
   "outputs": [],
   "source": [
    "f = open('respostas_q1.txt', mode='w', encoding='utf-8')\n",
    "f.write('Frequencia de palavras: {}'.format(repeticoes))\n",
    "f.write('\\n')\n",
    "f.write('\\n')\n",
    "f.write('Candidatos a nome proprio: {}'.format(candidatos))\n",
    "f.write('\\n')\n",
    "f.write('\\n')\n",
    "f.write('Quantidade de vezes que posso escrever meu nome: {}'.format(quantidade))\n",
    "f.write('\\n')\n",
    "f.write('\\n')\n",
    "f.write('Palavras que só ocorrem uma vez: {}'.format(palavras_uma))\n",
    "f.close()"
   ]
  },
  {
   "cell_type": "markdown",
   "metadata": {},
   "source": [
    "Questão 2 (2.0 pontos)  \n",
    "\n",
    "Seja d(n) definido como a suma dos divisores inteiros de n. Se d(a) = b e d(b) = a, sendo a ≠ b, então a e b são um \"par amigável\" de números.  \n",
    "\n",
    "Por exemplo, os divisores inteiros de 220 são 1, 2, 4, 5, 10, 11, 20, 22, 44, 55 e 110; então d(220) = 284.  \n",
    "Os divisores inteiros de 284 são 1, 2, 4, 71 e 142; então d(284) = 220.  \n",
    "\n",
    "Encontre todos os \"pares amigáveis\" de números menores que 20000.  Crie uma lista de tuplas com esses pares.  "
   ]
  },
  {
   "cell_type": "code",
   "execution_count": 1,
   "metadata": {},
   "outputs": [],
   "source": [
    "def d(n):\n",
    "    S = 0\n",
    "    for i in range(1,n//2+1):\n",
    "        if n%i == 0:\n",
    "            S += i\n",
    "    return(S)\n",
    "def pares_amig(m):\n",
    "    L = []\n",
    "    aux = list(range(1,m))\n",
    "    for j in aux:\n",
    "        for k in aux:\n",
    "            if d(j) == k and d(k) == j and j!=k:\n",
    "                if j>k:\n",
    "                    a,b = k,j\n",
    "                else:\n",
    "                    a,b = j,k\n",
    "                T = (a,b)\n",
    "                if T not in L:\n",
    "                    L.append(T)\n",
    "    return(L)"
   ]
  },
  {
   "cell_type": "code",
   "execution_count": 3,
   "metadata": {},
   "outputs": [
    {
     "data": {
      "text/plain": [
       "[(220, 284)]"
      ]
     },
     "execution_count": 3,
     "metadata": {},
     "output_type": "execute_result"
    }
   ],
   "source": [
    "pares_amig(1000)"
   ]
  },
  {
   "cell_type": "markdown",
   "metadata": {},
   "source": [
    "Questão 3 (2.5 pontos)  \n",
    "\n",
    "Usando funções geradoras, crie um objeto que emule um dado de oito faces (1-8) que seja viciado, de tal forma que a probabilidade desta função geradora retornar certo valor seja proporcional ao próprio valor (por exemplo, a face 6 é 3 vezes mais provável de sair do que a face 2).  \n",
    "\n",
    "(a) Usando os comandos plt.plot ou plt.hist, mostre graficamente o resultado de 10000 lançamentos;  \n",
    "(b) Modifique esta função geradora de forma que ela termine automaticamente quando todos os valores possíveis (1,2,3,4,5,6,7,8) tiverem sido retornados pelo menos uma vez. Neste caso, ela retornará o tempo absoluto total que ocorreu desde a primeira iteração.  "
   ]
  },
  {
   "cell_type": "code",
   "execution_count": 172,
   "metadata": {},
   "outputs": [],
   "source": [
    "def gera_dado():\n",
    "    L = []\n",
    "    for i in range(1,9):\n",
    "        for j in range(i):\n",
    "            L.append(i)\n",
    "    while True:\n",
    "        yield(L[random.randint(0,(len(L)-1))])"
   ]
  },
  {
   "cell_type": "code",
   "execution_count": 200,
   "metadata": {},
   "outputs": [
    {
     "data": {
      "text/plain": [
       "<function matplotlib.pyplot.show>"
      ]
     },
     "execution_count": 200,
     "metadata": {},
     "output_type": "execute_result"
    },
    {
     "data": {
      "image/png": "[encoded data removed]",
      "text/plain": [
       "<Figure size 432x288 with 1 Axes>"
      ]
     },
     "metadata": {},
     "output_type": "display_data"
    }
   ],
   "source": [
    "gen = gera_dado()\n",
    "lista = []\n",
    "while True:\n",
    "    lista.append(next(gen))\n",
    "    if len(lista) == 10000:\n",
    "        break\n",
    "n, bins, patches = plt.hist(lista, 40, density=False, facecolor='g', alpha=0.7)\n",
    "plt.show"
   ]
  },
  {
   "cell_type": "code",
   "execution_count": 252,
   "metadata": {},
   "outputs": [
    {
     "name": "stdout",
     "output_type": "stream",
     "text": [
      "0.00044417381286621094\n"
     ]
    }
   ],
   "source": [
    "gen = gera_dado()\n",
    "lista = []\n",
    "t0 = time.time()\n",
    "while True:\n",
    "    S = 0\n",
    "    lista.append(next(gen))\n",
    "    for i in range(1,9):\n",
    "        if i not in lista:\n",
    "            S += 1\n",
    "    if S == 0:\n",
    "        break\n",
    "print(time.time()-t0)"
   ]
  },
  {
   "cell_type": "markdown",
   "metadata": {},
   "source": [
    "Questão 4 (3.0 pontos)   \n",
    "\n",
    "Crie uma classe chamada \"Elevador\" que recebe, ao instanciada, o número de andares do edifício e inicia no andar mais baixo.  \n",
    "Crie métodos e propriedades para permitir que o elevador:  \n",
    "- Receba uma chamada (usuário aperta um botão em um andar);  \n",
    "- Receba um andar como destino (usuários apertam botões dentro do elevador);  \n",
    "- Informe em qual andar o elevador está;  \n",
    "- Informe a sequência de andares ainda por visitar;\n",
    "- Informe a quantidade de vezes que parou em cada andar (passar pelo andar sem \"parar\" no andar não conta);  \n",
    "\n",
    "Leve em consideração que cada deslocamento de andar demora 3 segundos.  \n",
    "Simule o comportamento do elevador atendendo à dez usuários, que têm andar de origem, andar de destino e sequência de chegada (fora e dentro do elevador) definidos aleatóriamente.  "
   ]
  },
  {
   "cell_type": "code",
   "execution_count": 228,
   "metadata": {},
   "outputs": [],
   "source": [
    "class Elevador:\n",
    "    def __init__(self,n):\n",
    "        self.andar = 0\n",
    "        self.sequencia = []\n",
    "        self.quantidade = [0]*n\n",
    "        self.direcao = None\n",
    "    def andar_elevador(self):\n",
    "        print('O elevador está no andar {}'.format(self.andar))\n",
    "        \n",
    "    def sequencia_andar(self):\n",
    "        print('O elevador ainda tem que visitar os andares: {}'.format(self.sequencia))\n",
    "        \n",
    "    def quantidade_andar(self,m):\n",
    "        print('O elevador parou {} vezes no andar {}'.format(self.quantidade[m],m))\n",
    "        \n",
    "    def destinar(self):\n",
    "        p = eval(input('Qual andar é o seu destino?' ))\n",
    "        return(p)\n",
    "    \n",
    "    def chamar(self,m):\n",
    "        while True:\n",
    "            self.sequencia.append(m)\n",
    "            self.sequencia.sort()\n",
    "            if self.direcao == None:\n",
    "                if m>self.andar:\n",
    "                    self.direcao = 1\n",
    "                else:\n",
    "                    self.direcao = -1\n",
    "            if self.andar == 0:\n",
    "                self.direcao = 1\n",
    "            elif self.andar == n-1:\n",
    "                self.direcao = -1\n",
    "            if self.direcao == -1:\n",
    "                self.andar = self.sequencia[self.sequencia.index(self.andar)-1]\n",
    "                self.sequencia.pop(self.sequencia.index(self.andar))\n",
    "                self.quantidade[self.andar] += 1\n",
    "            else:\n",
    "                self.andar = self.sequencia[self.sequencia.index(self.andar)+1]\n",
    "                self.sequencia.pop(self.sequencia.index(self.andar))\n",
    "                self.quantidade[self.andar] += 1\n",
    "            q = self.destinar()\n",
    "            self.sequencia.append(m)\n",
    "            self.sequencia.sort()\n",
    "    \n",
    "    def destinar(self,p):\n",
    "        self.sequencia.append(m)\n",
    "        self.sequencia.sort()\n",
    "        if self.direcao == None\n",
    "            if p>self.andar:\n",
    "                self.direcao = 1\n",
    "            else:\n",
    "                self.direcao = -1\n",
    "        \n",
    "    'Não deu ;-; '"
   ]
  },
  {
   "cell_type": "markdown",
   "metadata": {},
   "source": [
    "Questão bônus I (0.5 ponto)   \n",
    "\n",
    "Ilustre graficamente as posições do elevador acima para a simulação pedida:  "
   ]
  },
  {
   "cell_type": "code",
   "execution_count": null,
   "metadata": {},
   "outputs": [],
   "source": [
    "#seu código aqui"
   ]
  },
  {
   "cell_type": "markdown",
   "metadata": {},
   "source": [
    "Questão bônus II (0.5 ponto)   \n",
    "\n",
    "Crie um simulador de prédio inteligente, controlando chamadas feitas para n > 1 elevadores:  "
   ]
  }
 ],
 "metadata": {
  "kernelspec": {
   "display_name": "Python 3",
   "language": "python",
   "name": "python3"
  },
  "language_info": {
   "codemirror_mode": {
    "name": "ipython",
    "version": 3
   },
   "file_extension": ".py",
   "mimetype": "text/x-python",
   "name": "python",
   "nbconvert_exporter": "python",
   "pygments_lexer": "ipython3",
   "version": "3.5.2"
  }
 },
 "nbformat": 4,
 "nbformat_minor": 2
}
