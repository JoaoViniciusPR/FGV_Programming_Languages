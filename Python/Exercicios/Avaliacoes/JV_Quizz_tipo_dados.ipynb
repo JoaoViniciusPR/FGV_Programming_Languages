{
 "cells": [
  {
   "cell_type": "markdown",
   "metadata": {},
   "source": [
    "1 - Quais são as estruturas de dados primitivas mais comuns na linguagem Python? Exemplifique criando variáveis de cada uma destas estruturas."
   ]
  },
  {
   "cell_type": "code",
   "execution_count": 3,
   "metadata": {},
   "outputs": [],
   "source": [
    "#Numérico:\n",
    "#Inteiro:\n",
    "x = 1\n",
    "#Float:\n",
    "y = 2.5\n",
    "#Complex\n",
    "z = 1 + 4j\n",
    "\n",
    "#Bolleano:\n",
    "x > 0\n",
    "y == 2.5\n",
    "#Resulta em True ou False\n",
    "\n",
    "#String:\n",
    "S = 'Uma frase legal'\n",
    "\n",
    "#Lista:\n",
    "L = [1, 2, 5, 'oi', '[7,8]']\n",
    "\n",
    "#Conjunto:\n",
    "C = {1, 2, 2, 2, 8, 8, 8, 3, 9, 4}\n",
    "\n",
    "#Dicionário:\n",
    "D = {'Nome':'João', 'Sobrenome':'Primaki'}\n",
    "\n",
    "#Tupla:\n",
    "T = (1,6,89,10)\n",
    "\n",
    "#None:\n",
    "n = None"
   ]
  },
  {
   "cell_type": "markdown",
   "metadata": {},
   "source": [
    "2 - Dê pelo menos 5 exemplos de conversões entre tipos de dados, utilizando as variáveis criadas na questão anterior  "
   ]
  },
  {
   "cell_type": "code",
   "execution_count": 4,
   "metadata": {},
   "outputs": [
    {
     "data": {
      "text/plain": [
       "2"
      ]
     },
     "execution_count": 4,
     "metadata": {},
     "output_type": "execute_result"
    }
   ],
   "source": [
    "int(y)"
   ]
  },
  {
   "cell_type": "code",
   "execution_count": 5,
   "metadata": {},
   "outputs": [
    {
     "data": {
      "text/plain": [
       "[1, 2, 3, 4, 8, 9]"
      ]
     },
     "execution_count": 5,
     "metadata": {},
     "output_type": "execute_result"
    }
   ],
   "source": [
    "list(C)"
   ]
  },
  {
   "cell_type": "code",
   "execution_count": 6,
   "metadata": {},
   "outputs": [
    {
     "data": {
      "text/plain": [
       "{' ', 'U', 'a', 'e', 'f', 'g', 'l', 'm', 'r', 's'}"
      ]
     },
     "execution_count": 6,
     "metadata": {},
     "output_type": "execute_result"
    }
   ],
   "source": [
    "set(S)"
   ]
  },
  {
   "cell_type": "code",
   "execution_count": 7,
   "metadata": {},
   "outputs": [
    {
     "data": {
      "text/plain": [
       "(1, 2, 5, 'oi', '[7,8]')"
      ]
     },
     "execution_count": 7,
     "metadata": {},
     "output_type": "execute_result"
    }
   ],
   "source": [
    "tuple(L)"
   ]
  },
  {
   "cell_type": "code",
   "execution_count": 8,
   "metadata": {},
   "outputs": [
    {
     "data": {
      "text/plain": [
       "\"[1, 2, 5, 'oi', '[7,8]']\""
      ]
     },
     "execution_count": 8,
     "metadata": {},
     "output_type": "execute_result"
    }
   ],
   "source": [
    "str(L)"
   ]
  },
  {
   "cell_type": "markdown",
   "metadata": {},
   "source": [
    "3- Exemplifique o uso de algumas primitivas, de forma isolada ou combinada, para criar as seguintes estruturas de dados:  \n",
    "\n",
    "+ Um registro médico\n",
    "+ Uma matriz de pixels em formato RGB\n",
    "+ Um conjunto de coordenadas geográficas representando a sede da prefeitura e do corpo de bombeiros em 4 cidades diferentes"
   ]
  },
  {
   "cell_type": "code",
   "execution_count": 45,
   "metadata": {},
   "outputs": [],
   "source": [
    "registro = {'1)Nome Completo':\"Joao Vinicius\", '2)Idade':'17', '3)Peso':'70kg', '4)Altura':'1,75cm', '5)Doença':'Rinite Alergica'}"
   ]
  },
  {
   "cell_type": "code",
   "execution_count": 99,
   "metadata": {},
   "outputs": [],
   "source": [
    "matriz = [[(1,0,0), (1,0,1), (1,1,0)],\n",
    "          [(1,0,0), (1,0,1), (1,1,0)],\n",
    "          [(1,0,0), (1,0,1), (1,1,0)]]"
   ]
  },
  {
   "cell_type": "code",
   "execution_count": 57,
   "metadata": {},
   "outputs": [],
   "source": [
    "coordenadas = {'Prefeitura':{'Cidade1':'Lat1 e Log1', 'Cidade2':'Lat2 e Log2', 'Cidade3':'Lat3 e Log3', 'Cidade4':'Lat4 e Log4'}, \n",
    "             'Corpo de Bombeiros':{'Cidade1':'Lat5 e Log5', 'Cidade2':'Lat6 e Log6', 'Cidade3':'Lat7 e Log7', 'Cidade4':'Lat8 e Log8'}}"
   ]
  },
  {
   "cell_type": "markdown",
   "metadata": {},
   "source": [
    "4- Exemplifique o acesso aos elementos de informação das estruturas criadas na questão anterior."
   ]
  },
  {
   "cell_type": "code",
   "execution_count": 52,
   "metadata": {},
   "outputs": [
    {
     "data": {
      "text/plain": [
       "'Joao Vinicius'"
      ]
     },
     "execution_count": 52,
     "metadata": {},
     "output_type": "execute_result"
    }
   ],
   "source": [
    "registro['1)Nome Completo']"
   ]
  },
  {
   "cell_type": "code",
   "execution_count": 101,
   "metadata": {},
   "outputs": [
    {
     "data": {
      "text/plain": [
       "(1, 0, 1)"
      ]
     },
     "execution_count": 101,
     "metadata": {},
     "output_type": "execute_result"
    }
   ],
   "source": [
    "matriz[2][1]"
   ]
  },
  {
   "cell_type": "code",
   "execution_count": 58,
   "metadata": {},
   "outputs": [
    {
     "data": {
      "text/plain": [
       "'Lat7 e Log7'"
      ]
     },
     "execution_count": 58,
     "metadata": {},
     "output_type": "execute_result"
    }
   ],
   "source": [
    "coordenadas['Corpo de Bombeiros']['Cidade3']"
   ]
  },
  {
   "cell_type": "markdown",
   "metadata": {},
   "source": [
    "5- Explique o que são, exemplifique, e mostre algumas características de:  \n",
    "\n",
    "+ Tipos mutáveis e tipos imutáveis  \n",
    "+ Tipos \"container\"\n",
    "+ Tipos sequenciais\n"
   ]
  },
  {
   "cell_type": "markdown",
   "metadata": {
    "collapsed": true
   },
   "source": [
    "**Tipos mutáveis:** Pode ser feito mudanças\n",
    "Exemplos: Lista, Conjunto, Dicionário\n",
    "Características: Você pode alterar utilizando vários métodos, como: append, extende, pop, reverse, etc.\n",
    "**Tipos imutáveis:** Não pode ser feito mudanças\n",
    "Exemplos: Numéricos, Tupla, String, Bolleano\n",
    "Características: Servem pra te dar uma segurança no programa, pelo fato de serem imutáveis. Possuem vários métodos, mas não mudam esses tipos, como: count, index, etc."
   ]
  },
  {
   "cell_type": "markdown",
   "metadata": {
    "collapsed": true
   },
   "source": [
    "**Tipos Container:** Contém elementos e tipos padrões\n",
    "Exemplos: Conjunto, Dicionário\n",
    "Características: No caso do Conjunto e Dicionário, a sequência não importa e eles são organizados pelo Hash. Os elementos podem ser acessados ou modificados por métodos, conj[1], por exemplo."
   ]
  },
  {
   "cell_type": "markdown",
   "metadata": {
    "collapsed": true
   },
   "source": [
    "**Tipos sequenciais:** Existe uma sequência dos elementos\n",
    "Exemplos: String, Lista, Tupla\n",
    "Características: Graças a sequência, os elementos podem ser facilmente encontrados pelo número de sequência dentro do tipo"
   ]
  },
  {
   "cell_type": "markdown",
   "metadata": {},
   "source": [
    "6- Exemplifique chamadas de métodos em variáveis associadas a tipos de dados que:  \n",
    "+ Não modifiquem a variável e não retornem valores à chamada do método \n",
    "+ Modifiquem a variável mas não retornem valores à chamada do método\n",
    "+ Não modifiquem a variável mas retornem valores à chamada do método\n",
    "+ Modifiquem a variável e retornem valores à chamada do método  "
   ]
  },
  {
   "cell_type": "code",
   "execution_count": null,
   "metadata": {},
   "outputs": [],
   "source": [
    "b = print('dois')"
   ]
  },
  {
   "cell_type": "code",
   "execution_count": 102,
   "metadata": {},
   "outputs": [],
   "source": [
    "L = [1, 3, 4]\n",
    "A = [1, 2]\n",
    "L.extend(A)"
   ]
  },
  {
   "cell_type": "code",
   "execution_count": 103,
   "metadata": {},
   "outputs": [
    {
     "data": {
      "text/plain": [
       "1"
      ]
     },
     "execution_count": 103,
     "metadata": {},
     "output_type": "execute_result"
    }
   ],
   "source": [
    "L = [1, 3, 4]\n",
    "L.count(3)"
   ]
  },
  {
   "cell_type": "code",
   "execution_count": 104,
   "metadata": {},
   "outputs": [
    {
     "data": {
      "text/plain": [
       "4"
      ]
     },
     "execution_count": 104,
     "metadata": {},
     "output_type": "execute_result"
    }
   ],
   "source": [
    "L = [1, 3, 4]\n",
    "L.pop(2)"
   ]
  },
  {
   "cell_type": "markdown",
   "metadata": {},
   "source": [
    "7- Exemplifique o uso de métodos para:  \n",
    "+ Testar se uma string pode ser convertida para um inteiro  \n",
    "+ Testar se um conjunto é subconjunto de outro\n",
    "+ Concatenar duas listas\n",
    "+ Contar as ocorrências de um elemento em uma lista"
   ]
  },
  {
   "cell_type": "code",
   "execution_count": 92,
   "metadata": {},
   "outputs": [
    {
     "data": {
      "text/plain": [
       "1"
      ]
     },
     "execution_count": 92,
     "metadata": {},
     "output_type": "execute_result"
    }
   ],
   "source": [
    "s = str('1')\n",
    "int(s)"
   ]
  },
  {
   "cell_type": "code",
   "execution_count": 94,
   "metadata": {},
   "outputs": [
    {
     "data": {
      "text/plain": [
       "True"
      ]
     },
     "execution_count": 94,
     "metadata": {},
     "output_type": "execute_result"
    }
   ],
   "source": [
    "C = {1,2,3,4,5}\n",
    "Sc = {2,3}\n",
    "Aux = Sc.intersection(C)\n",
    "Aux == Sc"
   ]
  },
  {
   "cell_type": "code",
   "execution_count": null,
   "metadata": {
    "collapsed": true
   },
   "outputs": [],
   "source": [
    "L = [1, 3, 4]\n",
    "A = [1, 2]\n",
    "L.extend(A)"
   ]
  },
  {
   "cell_type": "code",
   "execution_count": 88,
   "metadata": {},
   "outputs": [
    {
     "data": {
      "text/plain": [
       "3"
      ]
     },
     "execution_count": 88,
     "metadata": {},
     "output_type": "execute_result"
    }
   ],
   "source": [
    "L = [1, 2, 2, 3, 4, 2]\n",
    "L.count(2)"
   ]
  },
  {
   "cell_type": "markdown",
   "metadata": {},
   "source": [
    "Deescreva, em linhas gerais, o que é uma linguagem de programação, e para que serve.  "
   ]
  },
  {
   "cell_type": "code",
   "execution_count": null,
   "metadata": {
    "collapsed": true
   },
   "outputs": [],
   "source": [
    "Linguagem de programação é um conjunto de propriedades sintáticas e semânticas que podem ser usadas pra fazer funções e ações."
   ]
  },
  {
   "cell_type": "markdown",
   "metadata": {},
   "source": [
    "Feedback: o que você está achando do curso até agora?  "
   ]
  },
  {
   "cell_type": "markdown",
   "metadata": {},
   "source": [
    "Não entendo muito, mas to gostando."
   ]
  }
 ],
 "metadata": {
  "kernelspec": {
   "display_name": "Python 3",
   "language": "python",
   "name": "python3"
  },
  "language_info": {
   "codemirror_mode": {
    "name": "ipython",
    "version": 3
   },
   "file_extension": ".py",
   "mimetype": "text/x-python",
   "name": "python",
   "nbconvert_exporter": "python",
   "pygments_lexer": "ipython3",
   "version": "3.5.2"
  }
 },
 "nbformat": 4,
 "nbformat_minor": 2
}
