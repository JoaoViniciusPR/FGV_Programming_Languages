{
 "cells": [
  {
   "cell_type": "markdown",
   "metadata": {},
   "source": [
    "# Resumo"
   ]
  },
  {
   "cell_type": "markdown",
   "metadata": {},
   "source": [
    "### Builtin https://docs.python.org/3/library/functions.html"
   ]
  },
  {
   "cell_type": "markdown",
   "metadata": {},
   "source": [
    "### String"
   ]
  },
  {
   "cell_type": "markdown",
   "metadata": {},
   "source": [
    "Pular linha (print): \\n e Identar: \\t"
   ]
  },
  {
   "cell_type": "code",
   "execution_count": null,
   "metadata": {},
   "outputs": [],
   "source": [
    "import string\n",
    "s.replace('a','@') #substituir um caractere por outro\n",
    "\n",
    "inicio = s4.find('string')\n",
    "fim = s4.find('simples')+len('simples')\n",
    "s4[inicio:fim]#delimitar até onde quero pegar o texto\n",
    "\n",
    "string.punctuation #nos dá as pontuações.\n",
    "string.digits #nos dá os números.\n",
    "string.ascii_letters #nos dá as letras do alfabeto (ordenadas) minúsculas e maiúsculas, nessa ordem.\n",
    "string.ascii_lowercase #somente as letras minúsculas.\n",
    "string.ascii_uppercase #somente as letras maiúsculas.\n",
    "''.islower() #verificar se é tudo maiúscula\n",
    "''.isupper() #verificar se é tudo minúscula\n",
    "''.istitle() #verificar se somente a primeira letra é maiúscula\n",
    "''strip(string.punctuation) #retirar pontuação"
   ]
  },
  {
   "cell_type": "markdown",
   "metadata": {},
   "source": [
    "### Aleatório"
   ]
  },
  {
   "cell_type": "code",
   "execution_count": null,
   "metadata": {},
   "outputs": [],
   "source": [
    "import random\n",
    "random.random()\n",
    "random.randint(a,b)"
   ]
  },
  {
   "cell_type": "markdown",
   "metadata": {},
   "source": [
    "### Time"
   ]
  },
  {
   "cell_type": "code",
   "execution_count": null,
   "metadata": {},
   "outputs": [],
   "source": [
    "import time\n",
    "time.time()"
   ]
  },
  {
   "cell_type": "markdown",
   "metadata": {},
   "source": [
    "### Aproximação"
   ]
  },
  {
   "cell_type": "code",
   "execution_count": null,
   "metadata": {},
   "outputs": [],
   "source": [
    "t = float('%.2f'%(5.656286262))\n",
    "print(t)\n",
    "print('A aproximação é {:.2f}'.format(5.656286262))\n"
   ]
  },
  {
   "cell_type": "markdown",
   "metadata": {},
   "source": [
    "### Ordenar lista de tuplas"
   ]
  },
  {
   "cell_type": "code",
   "execution_count": null,
   "metadata": {},
   "outputs": [],
   "source": [
    "L.sort(key=lambda x: x[1])"
   ]
  },
  {
   "cell_type": "markdown",
   "metadata": {},
   "source": [
    "### Geradores"
   ]
  },
  {
   "cell_type": "code",
   "execution_count": 13,
   "metadata": {},
   "outputs": [
    {
     "data": {
      "text/plain": [
       "1"
      ]
     },
     "execution_count": 13,
     "metadata": {},
     "output_type": "execute_result"
    }
   ],
   "source": [
    "gen = (x**x for x in range(99999999999999))"
   ]
  },
  {
   "cell_type": "code",
   "execution_count": 17,
   "metadata": {},
   "outputs": [
    {
     "data": {
      "text/plain": [
       "256"
      ]
     },
     "execution_count": 17,
     "metadata": {},
     "output_type": "execute_result"
    }
   ],
   "source": [
    "next(gen)"
   ]
  },
  {
   "cell_type": "code",
   "execution_count": null,
   "metadata": {},
   "outputs": [],
   "source": [
    "def gera_quadrados(x):\n",
    "    while True:\n",
    "        yield(x**2)\n",
    "        x+=1"
   ]
  },
  {
   "cell_type": "code",
   "execution_count": null,
   "metadata": {},
   "outputs": [],
   "source": [
    "import time\n",
    "def funcao_que_conta_tempo():\n",
    "    agora = time.time()\n",
    "    while True:\n",
    "        yield(time.time() - agora)"
   ]
  },
  {
   "cell_type": "markdown",
   "metadata": {},
   "source": [
    "### Lambda"
   ]
  },
  {
   "cell_type": "code",
   "execution_count": null,
   "metadata": {},
   "outputs": [],
   "source": [
    "#Expressão simples\n",
    "soma = lambda x,y : x + y"
   ]
  },
  {
   "cell_type": "markdown",
   "metadata": {},
   "source": [
    "### Zip"
   ]
  },
  {
   "cell_type": "code",
   "execution_count": null,
   "metadata": {},
   "outputs": [],
   "source": [
    "#Junta os elementos de mesmo índice nas listas\n",
    "zipado = list(zip(lista1, lista2))\n",
    "deszipado = (zip(*zipado))"
   ]
  },
  {
   "cell_type": "markdown",
   "metadata": {},
   "source": [
    "### Map"
   ]
  },
  {
   "cell_type": "code",
   "execution_count": null,
   "metadata": {},
   "outputs": [],
   "source": [
    "#Aplica uma função a cada elemento de uma lista\n",
    "resultados = map(minha_funcao,lista)\n",
    "resultados2 = map(lambda x:x**3,lista)"
   ]
  },
  {
   "cell_type": "markdown",
   "metadata": {},
   "source": [
    "### Reduce"
   ]
  },
  {
   "cell_type": "code",
   "execution_count": null,
   "metadata": {},
   "outputs": [],
   "source": [
    "#Aplica uma função a todos os valores do conjuntoe agrega em um único valor.\n",
    "seq9 = [1,2,3,4,5,6,7,8,9,10]\n",
    "multiplica = reduce(lambda x,y:x*y,seq9)"
   ]
  },
  {
   "cell_type": "markdown",
   "metadata": {},
   "source": [
    "### Filter"
   ]
  },
  {
   "cell_type": "code",
   "execution_count": null,
   "metadata": {},
   "outputs": [],
   "source": [
    "#Filtra os elementos de uma sequência\n",
    "list(filter(str.istitle,string.split()))"
   ]
  },
  {
   "cell_type": "markdown",
   "metadata": {},
   "source": [
    "### Any e All"
   ]
  },
  {
   "cell_type": "code",
   "execution_count": null,
   "metadata": {},
   "outputs": [],
   "source": [
    "#Pelo menos um é verdadeiro\n",
    "any(chr.isdigit() for chr in \"dggt6pqow\")\n",
    "#Todos são verdadeiros\n",
    "all(chr.isdigit() for chr in \"313213882\")"
   ]
  },
  {
   "cell_type": "markdown",
   "metadata": {},
   "source": [
    "### Classes"
   ]
  },
  {
   "cell_type": "code",
   "execution_count": null,
   "metadata": {},
   "outputs": [],
   "source": [
    "class nome:\n",
    "    def __init__(self):\n",
    "        #instânciado quando chama-se a classe\n",
    "        #Fica os atributos\n",
    "    def metodo(self):\n",
    "        #Funções da classe\n",
    "    def __str__(self):\n",
    "        #o que vai ser printado pra pessoa final\n",
    "    def __repr__(self):\n",
    "        #o que vai ser mostrado pro programador"
   ]
  },
  {
   "cell_type": "code",
   "execution_count": null,
   "metadata": {},
   "outputs": [],
   "source": [
    "class SuperDog(Dog):\n",
    "    def __init__(self,name,raca):\n",
    "        Dog.__init__(self,name,raca)"
   ]
  },
  {
   "cell_type": "markdown",
   "metadata": {},
   "source": [
    "### Numpy"
   ]
  },
  {
   "cell_type": "code",
   "execution_count": null,
   "metadata": {},
   "outputs": [],
   "source": [
    "import numpy as np"
   ]
  },
  {
   "cell_type": "markdown",
   "metadata": {},
   "source": [
    "### Array"
   ]
  },
  {
   "cell_type": "code",
   "execution_count": null,
   "metadata": {},
   "outputs": [],
   "source": [
    "numbers = [[1,2,3],[4,5,6]]\n",
    "simple = np.array(my_other_numbers) #Criar array\n",
    "\n",
    "simple.shape #Tamanho = (l,c)\n",
    "\n",
    "a = np.arange(20) #Vetor com números de 0 a 19\n",
    "a = np.arange(1,5,0.2) #Vetor com números de 1 a 5 (exceto o 5), com intervalos de 0.2\n",
    "\n",
    "b = np.linspace(1,10,30) #Vetor com 30 números de 1 a 10 (incluindo o 10) igualmente espaçados\n",
    "\n",
    "a1 = np.zeros((3,4)) #Array somente com 0\n",
    "a2 = np.ones((2,2)) #Array somente com 0\n",
    "a3 = np.identity(3) #Array Identidade 3x3\n",
    "\n",
    "c = np.arange(100)\n",
    "d = c.reshape(5,20) #Transformando o vetor c em um array com 5 intervalos, cada um com 20 números\n",
    "d2 = np.arange(100).reshape(2,10,5) #Array, com 2 listas, contendo cada uma 10 intervalos com 5 números\n",
    "\n",
    "a.cumsum() #Elemento = soma acumulativa\n",
    "\n",
    "a = np.arange(16).reshape(4,4)\n",
    "np.vstack([a,np.arange(4).reshape(1,4)]) #Adicionar um vetor linha\n",
    "np.hstack([a,np.arange(4).reshape(4,1)]) #Adicionar um vetor coluna\n",
    "\n",
    "b = np.random.randint(1,10,(5,5)) #Array 5x5 com números aleatórios entre 1 e 9"
   ]
  },
  {
   "cell_type": "markdown",
   "metadata": {},
   "source": [
    "### Matrix"
   ]
  },
  {
   "cell_type": "code",
   "execution_count": null,
   "metadata": {},
   "outputs": [],
   "source": [
    "#É bem parecido com o array, a diferença é que com ela podemos fazer várias operações matriciais\n",
    "a = np.arange(20)\n",
    "A = np.matrix(a) #Criamos a matriz a partir de um array"
   ]
  },
  {
   "cell_type": "markdown",
   "metadata": {},
   "source": [
    "### Matplotlib"
   ]
  },
  {
   "cell_type": "code",
   "execution_count": null,
   "metadata": {},
   "outputs": [],
   "source": [
    "import matplotlib.pyplot as plt\n",
    "\n",
    "plt.plot([1,3,2,4],[1,4,9,10]) #Gerar gráfico com pontos nas coordenadas x=[1,3,2,4] e y=[1,4,9,10]\n",
    "plt.plot(t,f(t)) #Sendo t um array com vários valores dentro de um intervalo\n",
    "plt.plot(x,y) #Sendo x um array (arange ou linspace) definido anteriormente e y uma função de x\n",
    "\n",
    "plt.ylabel('Some numbers') #Legenda do eixo y\n",
    "plt.xlabel('Other numbers') #Legenda do eixo x\n",
    "plt.title('Simple title') #Título do gráfico\n",
    "plt.axis([0,10,0,20]) #Tamanho da tela a ser mostrada (xmin,xmax,ymin,ymax)\n",
    "plt.show() #Mostrar gráfico"
   ]
  },
  {
   "cell_type": "code",
   "execution_count": null,
   "metadata": {},
   "outputs": [],
   "source": [
    "x = np.linspace(-100, 100, 10000)\n",
    "y1 = 2*x**2 - 10*x - 32\n",
    "y2 = 2*x**3 - 12*x**2 + 4*x +2\n",
    "y3 = np.zeros(10000)\n",
    "\n",
    "fig, ax = plt.subplots(1,2, figsize=(12,8)) #Cria uma janela 12 por 8, onde vão ser colocados 2 gráficos.\n",
    "\n",
    "ax[0].plot(x,y1)\n",
    "ax[0].plot(x,y3)\n",
    "ax[0].set_xlim([-30,30]) #Define limite do x\n",
    "ax[0].set_ylim([-55,400]) #Define limite do y\n",
    "\n",
    "ax[1].plot(x,y2)\n",
    "ax[1].plot(x,y3)\n",
    "ax[1].set_xlim([-10,12])\n",
    "ax[1].set_ylim([-50,10])\n",
    "\n",
    "plt.show()\n"
   ]
  }
 ],
 "metadata": {
  "kernelspec": {
   "display_name": "Python 3",
   "language": "python",
   "name": "python3"
  },
  "language_info": {
   "codemirror_mode": {
    "name": "ipython",
    "version": 3
   },
   "file_extension": ".py",
   "mimetype": "text/x-python",
   "name": "python",
   "nbconvert_exporter": "python",
   "pygments_lexer": "ipython3",
   "version": "3.5.2"
  }
 },
 "nbformat": 4,
 "nbformat_minor": 2
}
