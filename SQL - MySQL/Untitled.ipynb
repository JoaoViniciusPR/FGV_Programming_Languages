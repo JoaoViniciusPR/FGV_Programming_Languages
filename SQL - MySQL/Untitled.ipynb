{
 "cells": [
  {
   "cell_type": "markdown",
   "metadata": {},
   "source": [
    "# SQL - Structured Query Language (Linguagem de Consulta Estruturada)"
   ]
  },
  {
   "cell_type": "markdown",
   "metadata": {},
   "source": [
    "### SELECT - Seleciona e extrai dados de um banco de dados"
   ]
  },
  {
   "cell_type": "markdown",
   "metadata": {},
   "source": [
    "**FROM** - Identifica de onde você vai extrair\n",
    "\n",
    "**AS** - Renomeia uma tabela ou coluna\n",
    "\n",
    "**CONCAT ()** - Concatena valores\n",
    "    \n",
    "**DISTINCT** - Extrai valores unicos\n",
    "    \n",
    "**COUNT ()** - Conta quantos registros de dados foram extraidos\n",
    "\n",
    "**AVG ()** - Valor médio de uma coluna numérica\n",
    "\n",
    "**SUM ()** - Soma total de uma coluna numérica\n",
    "\n",
    "**MIN ()** - Menor valor da coluna selecionada\n",
    "\n",
    "**MAX ()** - Maior valor da coluna selecionada"
   ]
  },
  {
   "cell_type": "markdown",
   "metadata": {},
   "source": [
    "### WHERE - Extrai apenas os registros que atendem a uma condição especifica"
   ]
  },
  {
   "cell_type": "markdown",
   "metadata": {},
   "source": [
    "**Operadores:**\n",
    "    \n",
    "**Básicos** - =, <>, <, >, <=, >=\n",
    "\n",
    "**BETWEEN** - Entre dois valores (número, texto ou data) separados por **AND**\n",
    "\n",
    "**LIKE** - Pesquisa por um padrão (usando expressões regulares)\n",
    "\n",
    "    % - 0 ou mais caracteres\n",
    "    _ - Exatamente um caractere\n",
    "\n",
    "**IN ()** - Para especificar vários valores possíveis pra uma coluna (Pode ser usado com **SELECT**)\n",
    "\n",
    "**AND** - Exibe um registro se todas as condições forem verdadeiras\n",
    "\n",
    "**OR** - Exibe um registro se alguma das condições for verdadeira\n",
    "\n",
    "**NOT** - Exibe um registro que não tem a condição\n",
    "\n",
    "**IS NULL** - Verificar se o campo é sem valor\n",
    "\n",
    "**IS NOT NULL** - Verificar se o campo tem algum valor"
   ]
  },
  {
   "cell_type": "markdown",
   "metadata": {},
   "source": [
    "### ORDER BY - Classifica o conjunto de resultados em uma ordem"
   ]
  },
  {
   "cell_type": "markdown",
   "metadata": {},
   "source": [
    "**ASC** - Ordem crescente (por padrão, se não escrever nada, é em ordem crescente)\n",
    "\n",
    "**DESC** - Ordem decrescente"
   ]
  },
  {
   "cell_type": "markdown",
   "metadata": {},
   "source": [
    "### INSERT TO - Insere novos dados"
   ]
  },
  {
   "cell_type": "markdown",
   "metadata": {},
   "source": [
    "**VALUES ()** - Valores que serão adicionados"
   ]
  },
  {
   "cell_type": "markdown",
   "metadata": {},
   "source": [
    "### UPDATE - Atualiza os registros"
   ]
  },
  {
   "cell_type": "markdown",
   "metadata": {},
   "source": [
    "**SET** - Mostra qual coluna deve ser atualizada com qual valor. \n",
    "\n",
    "**OBS:** Lembre-se de usar **WHERE**"
   ]
  },
  {
   "cell_type": "markdown",
   "metadata": {},
   "source": [
    "### DELETE - Deleta os registros"
   ]
  },
  {
   "cell_type": "markdown",
   "metadata": {},
   "source": [
    "**FROM** e **WHERE**"
   ]
  },
  {
   "cell_type": "markdown",
   "metadata": {},
   "source": [
    "### TOP (ou LIMIT) - Especifica o número de registros"
   ]
  },
  {
   "cell_type": "markdown",
   "metadata": {},
   "source": [
    "**Somente número** - **SELECT TOP** number **FROM**\n",
    "\n",
    "ou no final do comando - **LIMIT** number\n",
    "\n",
    "**Porcentagem** -  **SELECT TOP** number **PERCENT FROM**"
   ]
  },
  {
   "cell_type": "markdown",
   "metadata": {},
   "source": [
    "### JOIN - Combina linhas de duas ou mais tabelas, com base em uma coluna relacionada entre elas."
   ]
  },
  {
   "cell_type": "markdown",
   "metadata": {},
   "source": [
    "**INNER JOIN** - Retorna registros que possuem valores correspondentes nas duas tabelas\n",
    "    \n",
    "**LEFT JOIN** - Retorna todos os registros da tabela da esquerda e os registros correspondentes da tabela da direita\n",
    "    \n",
    "**RIGHT JOIN** - Retorna todos os registros da tabela da direita e os registros correspondentes da tabela da esquerda\n",
    "    \n",
    "**FULL JOIN** - Retorna todos os registros quando há uma correspondência na tabela esquerda ou direita"
   ]
  },
  {
   "cell_type": "markdown",
   "metadata": {},
   "source": [
    "**EXEMPLO:**\n",
    "\n",
    "**SELECT** * **FROM** ((Orders **------** **JOIN** Customers **ON** Orders.CustomerID = Customers.CustomerID)"
   ]
  },
  {
   "cell_type": "code",
   "execution_count": null,
   "metadata": {},
   "outputs": [],
   "source": [
    "select c.customerName as Nome, min(p.amount) as Minimo, sum(p.amount) as Total from payments as p\n",
    "inner join customers as c\n",
    "on p.customerNumber = c.customerNumber\n",
    "where c.customerName like 'A%'\n",
    "group by p.customerNumber\n",
    "having Minimo > 2000\n",
    "order by Nome"
   ]
  }
 ],
 "metadata": {
  "kernelspec": {
   "display_name": "Python 3",
   "language": "python",
   "name": "python3"
  },
  "language_info": {
   "codemirror_mode": {
    "name": "ipython",
    "version": 3
   },
   "file_extension": ".py",
   "mimetype": "text/x-python",
   "name": "python",
   "nbconvert_exporter": "python",
   "pygments_lexer": "ipython3",
   "version": "3.5.2"
  }
 },
 "nbformat": 4,
 "nbformat_minor": 2
}
